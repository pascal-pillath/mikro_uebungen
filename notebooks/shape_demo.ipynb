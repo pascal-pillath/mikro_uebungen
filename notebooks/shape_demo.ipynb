{
 "cells": [
  {
   "cell_type": "code",
   "execution_count": 1,
   "metadata": {},
   "outputs": [],
   "source": [
    "import bqplot\n",
    "import numpy as np\n",
    "import pandas as pd\n",
    "import ipywidgets as widgets\n",
    "import pprint"
   ]
  },
  {
   "cell_type": "code",
   "execution_count": 10,
   "metadata": {},
   "outputs": [],
   "source": [
    "# input coordinates and class, function to modify board state \n",
    "def shape_grid(num_shapes, shape_function, size, inp, **interact_params):\n",
    "    sc_x = bqplot.scales.LinearScale(min=0, max=size)\n",
    "    sc_y = bqplot.scales.LinearScale(min=0, max=size)\n",
    "    ax_x = bqplot.axes.Axis(scale=sc_x)\n",
    "    ax_y = bqplot.axes.Axis(scale=sc_y, tick_format='0.2f', orientation='vertical')\n",
    "    ax_x.visible = False\n",
    "    ax_y.visible = False\n",
    "    \n",
    "    lst_scatter_plts = []\n",
    "    for i in range(num_shapes):\n",
    "        lst_scatter_plts.append(\n",
    "            bqplot.marks.Scatter(\n",
    "                   scales={'x': sc_x, 'y': sc_y}, ))\n",
    "#     layout = widgets.Layout(kw=dict(min_width='400px'))\n",
    "    fig = bqplot.Figure(marks=lst_scatter_plts, axis=[ax_x,ax_y], min_aspect_ratio=1, \n",
    "                        max_aspect_ratio=1, fig_margin={'top':10, 'bottom':60, 'left':60, 'right':60})\n",
    "    fig.layout.height = '600px'\n",
    "    fig.layout.width = '600px'\n",
    "    def wrapped(**interact_params):\n",
    "        nonlocal inp\n",
    "        lst_scatter_plts = []\n",
    "        output = shape_function(size, inp, **interact_params)\n",
    "        marks = fig.marks\n",
    "        # keep track of which dictionaries in new output have been added so that we can add remaining in the end\n",
    "        added = []\n",
    "        empty_old_points = []\n",
    "        for old_points in marks:\n",
    "            old_point_match = False\n",
    "            for dictionary in output:\n",
    "                if dictionary['options']['marker'] == old_points.marker and dictionary['options']['color'] == old_points.colors[0]:\n",
    "                    old_point_match = True\n",
    "                    added.append(dictionary)\n",
    "                    options = dictionary['options']\n",
    "                    coords = dictionary['coords']\n",
    "                    old_points.x = list(zip(*coords))[0]\n",
    "                    old_points.y = list(zip(*coords))[1]\n",
    "                    old_points.colors=[options['color']]\n",
    "                    old_points.marker=options['marker']\n",
    "            if not old_point_match:\n",
    "                old_points.x = []\n",
    "                old_points.y =[]\n",
    "                empty_old_points.append(old_points)\n",
    "        for dictionary in output:\n",
    "            if dictionary not in added:\n",
    "                old_points = empty_old_points.pop()\n",
    "                options = dictionary['options']\n",
    "                coords = dictionary['coords']\n",
    "                old_points.x = list(zip(*coords))[0]\n",
    "                old_points.y = list(zip(*coords))[1]\n",
    "                old_points.colors=[options['color']]\n",
    "                old_points.marker=options['marker']\n",
    "                added.append(dictionary)\n",
    "#         fig.marks = fig.marks + [(bqplot.Lines(x=np.arange(5), y=np.arange(5), scales={'x': sc_x, 'y': sc_y},\n",
    "#                    colors=[GOLDENROD]))]\n",
    "                \n",
    "                \n",
    "                \n",
    "                \n",
    "        inp = output\n",
    "    for marks in fig.marks:\n",
    "        marks.default_size = 120\n",
    "    display_widgets = widgets.interactive(wrapped, **interact_params)\n",
    "    display(display_widgets)\n",
    "    display(fig)"
   ]
  },
  {
   "cell_type": "code",
   "execution_count": 11,
   "metadata": {},
   "outputs": [],
   "source": [
    "DARK_BLUE = '#475A77'\n",
    "GOLDENROD = '#FEC62C'\n",
    "BRICK_RED = '#B22222'"
   ]
  },
  {
   "cell_type": "code",
   "execution_count": 12,
   "metadata": {},
   "outputs": [],
   "source": [
    "def cute_shape(size, plotting_info, time, ratio):\n",
    "    # build attribute grid where if there is no shape it is a 0, and dict of attribute where there is a shape\n",
    "    shape_color_mapping = {'circle': GOLDENROD, 'triangle-up': DARK_BLUE}\n",
    "    attribute_grid = [[0] * size for _ in range(size)]\n",
    "    for coords_and_options in plotting_info:\n",
    "        coords = coords_and_options['coords']\n",
    "        options = coords_and_options['options']\n",
    "        for i,j in coords:\n",
    "            attribute_grid[size-j-1][i] = options.copy()\n",
    "    \n",
    "    # check if the neighbor is satisfied\n",
    "    def neighbors_are_similar(x,y):\n",
    "        attribute = attribute_grid[x][y] \n",
    "        similar_count = different_count = 0\n",
    "        for i in range(max(0, x-1), min(size, x+2)):\n",
    "            for j in range(max(0, y-1), min(size, y+2)):\n",
    "                if attribute_grid[i][j] != 0 and (i != x or j != y):\n",
    "                    if attribute['marker'] == attribute_grid[i][j]['marker']:\n",
    "                        similar_count += 1\n",
    "                    else:\n",
    "                        different_count += 1\n",
    "        return different_count+similar_count == 0 or similar_count/(different_count+similar_count) > ratio\n",
    "    \n",
    "    # set the happiness colors for all shapes\n",
    "    if time ==0:\n",
    "        for i in range(size):\n",
    "            for j in range(size):\n",
    "                options = attribute_grid[i][j]\n",
    "                if options != 0:\n",
    "                    if not neighbors_are_similar(i, j):\n",
    "                        attribute_grid[i][j]['color'] = BRICK_RED\n",
    "                    else:\n",
    "                        attribute_grid[i][j]['color'] = shape_color_mapping[attribute_grid[i][j]['marker']]\n",
    "                \n",
    "    # for visualizing the board changing\n",
    "    \n",
    "    if time !=0 and time < 1000:\n",
    "        #find the unhappy shape\n",
    "        unhappy_shape_coord = None\n",
    "        unhappy_shape = None\n",
    "        for i in range(size):\n",
    "            if unhappy_shape:\n",
    "                break\n",
    "            for j in range(size):\n",
    "                if attribute_grid[i][j] != 0 and attribute_grid[i][j]['color'] == BRICK_RED:\n",
    "                    unhappy_shape = attribute_grid[i][j]\n",
    "                    unhappy_shape_coord = [i,j]\n",
    "        displaced = True\n",
    "        if unhappy_shape:\n",
    "            while displaced:\n",
    "                new_coord = [np.random.randint(0, size), np.random.randint(0, size)]\n",
    "                if attribute_grid[new_coord[0]][new_coord[1]] == 0:\n",
    "                    attribute_grid[unhappy_shape_coord[0]][unhappy_shape_coord[1]] = 0\n",
    "                    attribute_grid[new_coord[0]][new_coord[1]] = unhappy_shape\n",
    "                    displaced = False\n",
    "            for i in range(size):\n",
    "                for j in range(size):\n",
    "                    options = attribute_grid[i][j]\n",
    "                    if options != 0:\n",
    "                        if not neighbors_are_similar(i, j):\n",
    "                            attribute_grid[i][j]['color'] = BRICK_RED\n",
    "                        else:\n",
    "                            attribute_grid[i][j]['color'] = shape_color_mapping[attribute_grid[i][j]['marker']]\n",
    "#         else:\n",
    "#             for i in range(size):\n",
    "#                 for j in range(size):\n",
    "#                     options = attribute_grid[i][j]\n",
    "#                     if options != 0:\n",
    "#                         attribute_grid[i][j]['color'] = shape_color_mapping[attribute_grid[i][j]['marker']]\n",
    "\n",
    "    # change grid to output format\n",
    "    merged_options_coordinates = []\n",
    "    for i in range(size):\n",
    "        for j in range(size):\n",
    "            options = attribute_grid[i][j]\n",
    "            if options != 0:\n",
    "                added = False\n",
    "                for dictionary in merged_options_coordinates:\n",
    "                    if dictionary['options'] == options:\n",
    "                        dictionary['coords'].append([j, size-i-1])\n",
    "                        added = True\n",
    "                        break\n",
    "                if not added:\n",
    "                    merged_options_coordinates.append({'options':options, 'coords':[[j, size-i-1]]})\n",
    "    return merged_options_coordinates"
   ]
  },
  {
   "cell_type": "code",
   "execution_count": 13,
   "metadata": {},
   "outputs": [],
   "source": [
    "import itertools"
   ]
  },
  {
   "cell_type": "code",
   "execution_count": 14,
   "metadata": {},
   "outputs": [],
   "source": [
    "np.random.seed(43)\n",
    "coordinates = list(set(itertools.combinations(np.append(np.arange(15),np.arange(15)), 2)))\n",
    "np.random.shuffle(coordinates)\n",
    "inp= [{'options': {'color':'blue', 'marker':'triangle-up'}, 'coords':coordinates[0:40]},\n",
    "      {'options': {'color':'blue', 'marker':'circle'}, 'coords':coordinates[40:80]}]"
   ]
  },
  {
   "cell_type": "code",
   "execution_count": 15,
   "metadata": {},
   "outputs": [],
   "source": [
    "#widgets.Play(value=0, max=100)"
   ]
  },
  {
   "cell_type": "code",
   "execution_count": 16,
   "metadata": {
    "scrolled": false
   },
   "outputs": [
    {
     "data": {
      "application/vnd.jupyter.widget-view+json": {
       "model_id": "708f53bc7aba45db923bc48275ee66bc",
       "version_major": 2,
       "version_minor": 0
      },
      "text/html": [
       "<p>Failed to display Jupyter Widget of type <code>interactive</code>.</p>\n",
       "<p>\n",
       "  If you're reading this message in the Jupyter Notebook or JupyterLab Notebook, it may mean\n",
       "  that the widgets JavaScript is still loading. If this message persists, it\n",
       "  likely means that the widgets JavaScript library is either not installed or\n",
       "  not enabled. See the <a href=\"https://ipywidgets.readthedocs.io/en/stable/user_install.html\">Jupyter\n",
       "  Widgets Documentation</a> for setup instructions.\n",
       "</p>\n",
       "<p>\n",
       "  If you're reading this message in another frontend (for example, a static\n",
       "  rendering on GitHub or <a href=\"https://nbviewer.jupyter.org/\">NBViewer</a>),\n",
       "  it may mean that your frontend doesn't currently support widgets.\n",
       "</p>\n"
      ],
      "text/plain": [
       "interactive(children=(Play(value=0, description='time'), FloatSlider(value=0.3, description='ratio', max=1.0), Output()), _dom_classes=('widget-interact',))"
      ]
     },
     "metadata": {},
     "output_type": "display_data"
    },
    {
     "data": {
      "application/vnd.jupyter.widget-view+json": {
       "model_id": "7763755c7b7a4ee9a4831f13b84811d9",
       "version_major": 2,
       "version_minor": 0
      },
      "text/html": [
       "<p>Failed to display Jupyter Widget of type <code>Figure</code>.</p>\n",
       "<p>\n",
       "  If you're reading this message in the Jupyter Notebook or JupyterLab Notebook, it may mean\n",
       "  that the widgets JavaScript is still loading. If this message persists, it\n",
       "  likely means that the widgets JavaScript library is either not installed or\n",
       "  not enabled. See the <a href=\"https://ipywidgets.readthedocs.io/en/stable/user_install.html\">Jupyter\n",
       "  Widgets Documentation</a> for setup instructions.\n",
       "</p>\n",
       "<p>\n",
       "  If you're reading this message in another frontend (for example, a static\n",
       "  rendering on GitHub or <a href=\"https://nbviewer.jupyter.org/\">NBViewer</a>),\n",
       "  it may mean that your frontend doesn't currently support widgets.\n",
       "</p>\n"
      ],
      "text/plain": [
       "Figure(fig_margin={'top': 10, 'bottom': 60, 'left': 60, 'right': 60}, layout=Layout(height='600px', min_width='125px', width='600px'), marks=[Scatter(colors=['#B22222'], default_size=120, interactions={'hover': 'tooltip'}, marker='triangle-up', scales={'x': LinearScale(max=15.0, min=0.0), 'y': LinearScale(max=15.0, min=0.0)}, scales_metadata={'x': {'orientation': 'horizontal', 'dimension': 'x'}, 'y': {'orientation': 'vertical', 'dimension': 'y'}, 'color': {'dimension': 'color'}, 'size': {'dimension': 'size'}, 'opacity': {'dimension': 'opacity'}, 'rotation': {'dimension': 'rotation'}, 'skew': {'dimension': 'skew'}}, tooltip_style={'opacity': 0.9}, x=array([10, 13,  7, 10,  1,  3,  7,  1,  4,  4,  6]), y=array([13, 12, 10,  8,  7,  7,  7,  5,  3,  1,  0])), Scatter(colors=['#FEC62C'], default_size=120, interactions={'hover': 'tooltip'}, scales={'x': LinearScale(max=15.0, min=0.0), 'y': LinearScale(max=15.0, min=0.0)}, scales_metadata={'x': {'orientation': 'horizontal', 'dimension': 'x'}, 'y': {'orientation': 'vertical', 'dimension': 'y'}, 'color': {'dimension': 'color'}, 'size': {'dimension': 'size'}, 'opacity': {'dimension': 'opacity'}, 'rotation': {'dimension': 'rotation'}, 'skew': {'dimension': 'skew'}}, tooltip_style={'opacity': 0.9}, x=array([12,  3,  2,  3,  4,  5, 10,  6, 13,  7, 13, 14,  6, 10,  1,  3,  9,\n",
       "       13, 14,  0,  2,  3, 11, 11, 12,  2,  5,  6,  8, 13,  5, 12]), y=array([14, 13, 12, 12, 11, 10, 10,  9,  9,  8,  8,  8,  7,  7,  6,  6,  6,\n",
       "        6,  6,  5,  5,  4,  3,  2,  2,  1,  1,  1,  1,  1,  0,  0])), Scatter(colors=['#B22222'], default_size=120, interactions={'hover': 'tooltip'}, scales={'x': LinearScale(max=15.0, min=0.0), 'y': LinearScale(max=15.0, min=0.0)}, scales_metadata={'x': {'orientation': 'horizontal', 'dimension': 'x'}, 'y': {'orientation': 'vertical', 'dimension': 'y'}, 'color': {'dimension': 'color'}, 'size': {'dimension': 'size'}, 'opacity': {'dimension': 'opacity'}, 'rotation': {'dimension': 'rotation'}, 'skew': {'dimension': 'skew'}}, tooltip_style={'opacity': 0.9}, x=array([ 7, 11,  0,  8, 13,  7,  2,  0]), y=array([14, 12, 11, 11, 11,  5,  2,  1])), Scatter(colors=['#475A77'], default_size=120, interactions={'hover': 'tooltip'}, marker='triangle-up', scales={'x': LinearScale(max=15.0, min=0.0), 'y': LinearScale(max=15.0, min=0.0)}, scales_metadata={'x': {'orientation': 'horizontal', 'dimension': 'x'}, 'y': {'orientation': 'vertical', 'dimension': 'y'}, 'color': {'dimension': 'color'}, 'size': {'dimension': 'size'}, 'opacity': {'dimension': 'opacity'}, 'rotation': {'dimension': 'rotation'}, 'skew': {'dimension': 'skew'}}, tooltip_style={'opacity': 0.9}, x=array([ 4,  4,  6,  7,  6,  0,  1, 12,  0,  4, 12,  5, 10,  8,  9,  1,  2,\n",
       "        6,  7,  8,  9,  0, 13,  1, 10, 12,  1, 10, 13]), y=array([14, 13, 13, 13, 12, 10, 10, 10,  9,  9,  9,  8,  5,  4,  4,  3,  3,\n",
       "        3,  3,  3,  3,  2,  2,  1,  1,  1,  0,  0,  0]))], max_aspect_ratio=1.0, scale_x=LinearScale(allow_padding=False, max=1.0, min=0.0), scale_y=LinearScale(allow_padding=False, max=1.0, min=0.0))"
      ]
     },
     "metadata": {},
     "output_type": "display_data"
    }
   ],
   "source": [
    "shape_grid(4, cute_shape, 15, inp, time=widgets.Play(value=0, max=100), ratio=widgets.FloatSlider(value=0.3, min=0, max=1))"
   ]
  },
  {
   "cell_type": "code",
   "execution_count": null,
   "metadata": {},
   "outputs": [],
   "source": []
  }
 ],
 "metadata": {
  "kernelspec": {
   "display_name": "Python 3",
   "language": "python",
   "name": "python3"
  },
  "language_info": {
   "codemirror_mode": {
    "name": "ipython",
    "version": 3
   },
   "file_extension": ".py",
   "mimetype": "text/x-python",
   "name": "python",
   "nbconvert_exporter": "python",
   "pygments_lexer": "ipython3",
   "version": "3.6.2"
  }
 },
 "nbformat": 4,
 "nbformat_minor": 2
}
