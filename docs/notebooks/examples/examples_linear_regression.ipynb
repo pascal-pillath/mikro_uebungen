{
 "cells": [
  {
   "cell_type": "code",
   "execution_count": 1,
   "metadata": {},
   "outputs": [],
   "source": [
    "# HIDDEN\n",
    "import nbinteract as nbi\n",
    "import numpy as np"
   ]
  },
  {
   "cell_type": "markdown",
   "metadata": {},
   "source": [
    "# Linear Regression\n",
    "\n",
    "## What is Regression? \n",
    "In this tutorial, we're going to learn about regression, one of the the most important concepts in machine learning. Simply stated, regression allows us to take some data and make predictions for future data.\n",
    "\n",
    "Let's suppose we want to figure out whether a new ice cream flavor will be popular. Here, we have some data on past ice cream flavors. Each point is a flavor. The x-axis shows how highly the ice cream texture was rated. The y-axis shows how the highly the flavor was rated overall.\n",
    "\n",
    "We can expect that the better the texture, the higher the overall rating. We want to fit a line to the data to show that. Regression chooses the best line for us. Try dragging the points around and see how the regression line changes!"
   ]
  },
  {
   "cell_type": "code",
   "execution_count": 2,
   "metadata": {},
   "outputs": [],
   "source": [
    "texture_rating = np.array([4.5, 5.8, 5.3, 5.5, 6.6, 6.5, 5.7, 5, 5.1])\n",
    "overall_rating = np.array([5, 5.4, 6, 3.5, 6.5, 5.5, 5.9, 5.5, 5.4])"
   ]
  },
  {
   "cell_type": "code",
   "execution_count": 3,
   "metadata": {},
   "outputs": [
    {
     "data": {
      "application/vnd.jupyter.widget-view+json": {
       "model_id": "b568cd8a8d5a4482aa9e781ca15ca990",
       "version_major": 2,
       "version_minor": 0
      },
      "text/html": [
       "<p>Failed to display Jupyter Widget of type <code>VBox</code>.</p>\n",
       "<p>\n",
       "  If you're reading this message in the Jupyter Notebook or JupyterLab Notebook, it may mean\n",
       "  that the widgets JavaScript is still loading. If this message persists, it\n",
       "  likely means that the widgets JavaScript library is either not installed or\n",
       "  not enabled. See the <a href=\"https://ipywidgets.readthedocs.io/en/stable/user_install.html\">Jupyter\n",
       "  Widgets Documentation</a> for setup instructions.\n",
       "</p>\n",
       "<p>\n",
       "  If you're reading this message in another frontend (for example, a static\n",
       "  rendering on GitHub or <a href=\"https://nbviewer.jupyter.org/\">NBViewer</a>),\n",
       "  it may mean that your frontend doesn't currently support widgets.\n",
       "</p>\n"
      ],
      "text/plain": [
       "VBox(children=(Label(value='y = 0.43x + 3.00'), Figure(axes=[Axis(label='Texture Rating', scale=LinearScale(max=7.0, min=4.0)), Axis(label='Overall Rating', orientation='vertical', scale=LinearScale(max=7.0, min=4.0))], fig_margin={'top': 60, 'bottom': 60, 'left': 60, 'right': 60}, layout=Layout(min_width='125px'), marks=[Scatter(colors=['#475A77'], enable_move=True, interactions={'hover': 'tooltip'}, scales={'x': LinearScale(max=7.0, min=4.0), 'y': LinearScale(max=7.0, min=4.0)}, scales_metadata={'x': {'orientation': 'horizontal', 'dimension': 'x'}, 'y': {'orientation': 'vertical', 'dimension': 'y'}, 'color': {'dimension': 'color'}, 'size': {'dimension': 'size'}, 'opacity': {'dimension': 'opacity'}, 'rotation': {'dimension': 'rotation'}, 'skew': {'dimension': 'skew'}}, stroke='#475A77', tooltip_style={'opacity': 0.9}, x=array([4.5, 5.8, 5.3, 5.5, 6.6, 6.5, 5.7, 5. , 5.1]), y=array([5. , 5.4, 6. , 3.5, 6.5, 5.5, 5.9, 5.5, 5.4])), Lines(colors=['#FEC62C'], interactions={'hover': 'tooltip'}, scales={'x': LinearScale(max=7.0, min=4.0), 'y': LinearScale(max=7.0, min=4.0)}, scales_metadata={'x': {'orientation': 'horizontal', 'dimension': 'x'}, 'y': {'orientation': 'vertical', 'dimension': 'y'}, 'color': {'dimension': 'color'}}, tooltip_style={'opacity': 0.9}, x=array([4., 7.]), y=array([4.73532191, 6.03862965]))], scale_x=LinearScale(allow_padding=False, max=1.0, min=0.0), scale_y=LinearScale(allow_padding=False, max=1.0, min=0.0), title='Simple Linear Regression')))"
      ]
     },
     "metadata": {},
     "output_type": "display_data"
    }
   ],
   "source": [
    "nbi.scatter_drag(texture_rating, \n",
    "                 overall_rating, \n",
    "                 options={'xlim': (4, 7), \n",
    "                          'ylim': (4, 7), \n",
    "                          'xlabel':\"Texture Rating\", \n",
    "                          'ylabel':\"Overall Rating\", \n",
    "                          'title': \"Simple Linear Regression\"})"
   ]
  },
  {
   "cell_type": "markdown",
   "metadata": {},
   "source": [
    "That equation above is our regression line. We can use it to make predictions for data we haven't seen before. For example, if I gave you a ice cream that someone rated a 5.0 for texture, you could use the equation above the graph to predict the overall rating. "
   ]
  }
 ],
 "metadata": {
  "kernelspec": {
   "display_name": "Python 3",
   "language": "python",
   "name": "python3"
  },
  "language_info": {
   "codemirror_mode": {
    "name": "ipython",
    "version": 3
   },
   "file_extension": ".py",
   "mimetype": "text/x-python",
   "name": "python",
   "nbconvert_exporter": "python",
   "pygments_lexer": "ipython3",
   "version": "3.6.2"
  }
 },
 "nbformat": 4,
 "nbformat_minor": 2
}
