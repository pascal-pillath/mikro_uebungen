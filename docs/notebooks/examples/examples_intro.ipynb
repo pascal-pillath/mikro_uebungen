{
 "cells": [
  {
   "cell_type": "markdown",
   "metadata": {},
   "source": [
    "# Examples\n",
    "\n",
    "This section contains fleshed out example explanations that make use of\n",
    "`nbinteract`. Many of these examples were originally static pages taken from\n",
    "[UC Berkeley's Data 8 textbook][data8] augmented with interactivity.\n",
    "\n",
    "[data8]: https://www.inferentialthinking.com/\n"
   ]
  }
 ],
 "metadata": {
  "kernelspec": {
   "display_name": "Python [default]",
   "language": "python",
   "name": "python3"
  },
  "language_info": {
   "codemirror_mode": {
    "name": "ipython",
    "version": 3
   },
   "file_extension": ".py",
   "mimetype": "text/x-python",
   "name": "python",
   "nbconvert_exporter": "python",
   "pygments_lexer": "ipython3",
   "version": "3.6.3"
  }
 },
 "nbformat": 4,
 "nbformat_minor": 2
}
