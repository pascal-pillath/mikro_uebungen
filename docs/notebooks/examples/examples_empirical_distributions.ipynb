{
 "cells": [
  {
   "cell_type": "code",
   "execution_count": 1,
   "metadata": {},
   "outputs": [],
   "source": [
    "# HIDDEN\n",
    "\n",
    "from datascience import *\n",
    "import matplotlib\n",
    "matplotlib.use('Agg', warn=False)\n",
    "%matplotlib inline\n",
    "import matplotlib.pyplot as plots\n",
    "plots.style.use('fivethirtyeight')\n",
    "import numpy as np\n",
    "\n",
    "# Interaction\n",
    "from IPython.display import display\n",
    "from functools import partial\n",
    "from ipywidgets import interact, interactive, fixed, interact_manual\n",
    "import ipywidgets as widgets\n",
    "import nbinteract as nbi"
   ]
  },
  {
   "cell_type": "markdown",
   "metadata": {},
   "source": [
    "### Empirical Distributions ###\n",
    "\n",
    "Much of data science involves data from large random samples. In this section we will examine some properties of such samples.\n",
    "\n",
    "We will start with a simple experiment: rolling a die multiple times and keeping track of which face appears. The table `die` contains the numbers of spots on the faces of a die. All the numbers appear exactly once, as we are assuming that the die is fair."
   ]
  },
  {
   "cell_type": "code",
   "execution_count": 2,
   "metadata": {},
   "outputs": [
    {
     "data": {
      "text/html": [
       "<table border=\"1\" class=\"dataframe\">\n",
       "    <thead>\n",
       "        <tr>\n",
       "            <th>Face</th>\n",
       "        </tr>\n",
       "    </thead>\n",
       "    <tbody>\n",
       "        <tr>\n",
       "            <td>1   </td>\n",
       "        </tr>\n",
       "    </tbody>\n",
       "        <tr>\n",
       "            <td>2   </td>\n",
       "        </tr>\n",
       "    </tbody>\n",
       "        <tr>\n",
       "            <td>3   </td>\n",
       "        </tr>\n",
       "    </tbody>\n",
       "        <tr>\n",
       "            <td>4   </td>\n",
       "        </tr>\n",
       "    </tbody>\n",
       "        <tr>\n",
       "            <td>5   </td>\n",
       "        </tr>\n",
       "    </tbody>\n",
       "        <tr>\n",
       "            <td>6   </td>\n",
       "        </tr>\n",
       "    </tbody>\n",
       "</table>"
      ],
      "text/plain": [
       "Face\n",
       "1\n",
       "2\n",
       "3\n",
       "4\n",
       "5\n",
       "6"
      ]
     },
     "execution_count": 2,
     "metadata": {},
     "output_type": "execute_result"
    }
   ],
   "source": [
    "die = Table().with_column('Face', np.arange(1, 7, 1))\n",
    "die"
   ]
  },
  {
   "cell_type": "markdown",
   "metadata": {},
   "source": [
    "### A Probability Distribution ###\n",
    "\n",
    "The histogram below helps us visualize the fact that every face appears with probability 1/6. We say that the histogram shows the *distribution* of probabilities over all the possible faces. Since all the bars represent the same percent chance, the distribution is called *uniform on the integers 1 through 6.*"
   ]
  },
  {
   "cell_type": "code",
   "execution_count": 6,
   "metadata": {},
   "outputs": [
    {
     "data": {
      "application/vnd.jupyter.widget-view+json": {
       "model_id": "d3c83414ea21409d9fefdbae144f6960",
       "version_major": 2,
       "version_minor": 0
      },
      "text/plain": [
       "A Jupyter Widget"
      ]
     },
     "metadata": {},
     "output_type": "display_data"
    },
    {
     "data": {
      "application/vnd.jupyter.widget-view+json": {
       "model_id": "8a26d020028f469ebdacb52fdfefad26",
       "version_major": 2,
       "version_minor": 0
      },
      "text/plain": [
       "A Jupyter Widget"
      ]
     },
     "metadata": {},
     "output_type": "display_data"
    }
   ],
   "source": [
    "die_options = {'bins': 6, 'xlim': (1, 7), 'ylim': (0, 0.2)}\n",
    "\n",
    "nbi.hist(die.column('Face'), options=die_options)"
   ]
  },
  {
   "cell_type": "markdown",
   "metadata": {},
   "source": [
    "Variables whose successive values are separated by the same fixed amount, such as the values on rolls of a die (successive values separated by 1), are called *discrete*. The histogram above is called a *discrete* histogram. Its bins are specified by the array `die_bins` and ensure that each bar is centered over the corresponding integer value. \n",
    "\n",
    "It is important to remember that the die can't show 1.3 spots, or 5.2 spots – it always shows an integer number of spots. But our visualization spreads the probability of each value over the area of a bar. While this might seem a bit arbitrary at this stage of the course, it will become important later when we overlay smooth curves over discrete histograms.\n",
    "\n",
    "Before going further, let's make sure that the numbers on the axes make sense. The probability of each face is 1/6, which is 16.67% when rounded to two decimal places. The width of each bin is 1 unit. So the height of each bar is 16.67% per unit. This agrees with the horizontal and vertical scales of the graph."
   ]
  },
  {
   "cell_type": "markdown",
   "metadata": {},
   "source": [
    "### Empirical Distributions ###\n",
    "The distribution above consists of the theoretical probability of each face. It is not based on data. It can be studied and understood without any dice being rolled.\n",
    "\n",
    "*Empirical distributions,* on the other hand, are distributions of observed data. They can be visualized by *empirical histograms*. \n",
    "\n",
    "Let us get some data by simulating rolls of a die. This can be done by sampling at random with replacement from the integers 1 through 6. To do this using Python, we will use the Table method `sample`, which draws at random with replacement from the rows of a table. Its argument is the sample size, and it returns a table consisting of the rows that were selected. An optional argument `with_replacement=False` specifies that the sample should be drawn without replacement, but that does not apply to rolling a die.\n",
    "\n",
    "Here are some results of 10 rolls of a die. Drag the slider right\n",
    "to see different samples."
   ]
  },
  {
   "cell_type": "code",
   "execution_count": 7,
   "metadata": {},
   "outputs": [
    {
     "data": {
      "application/vnd.jupyter.widget-view+json": {
       "model_id": "e919217e9f404c20a551a9aa68fba9b7",
       "version_major": 2,
       "version_minor": 0
      },
      "text/plain": [
       "A Jupyter Widget"
      ]
     },
     "metadata": {},
     "output_type": "display_data"
    }
   ],
   "source": [
    "def die_sample_10(sample_num=0):\n",
    "    return die.sample(10)\n",
    "\n",
    "_ = interact(die_sample_10, sample_num=(0, 20))"
   ]
  },
  {
   "cell_type": "markdown",
   "metadata": {},
   "source": [
    "We can use the same method to simulate as many rolls as we like, and then draw empirical histograms of the results. Because we are going to do this repeatedly, we define a function `empirical_die_rolls` that takes as its argument the sample size; the function rolls the die as many times as its argument and then returns the die rolls in an array."
   ]
  },
  {
   "cell_type": "code",
   "execution_count": 8,
   "metadata": {
    "scrolled": false
   },
   "outputs": [],
   "source": [
    "def empirical_die_rolls(n_rolls, sample_num=0):\n",
    "    return die.sample(n_rolls).column('Face')"
   ]
  },
  {
   "cell_type": "markdown",
   "metadata": {},
   "source": [
    "### Empirical Histograms ###\n",
    "\n",
    "Here is an empirical histogram of 10 rolls. It doesn't look very much like the probability histogram above. Drag the slider to look at different sets of 10 rolls."
   ]
  },
  {
   "cell_type": "code",
   "execution_count": 9,
   "metadata": {
    "scrolled": false
   },
   "outputs": [
    {
     "data": {
      "application/vnd.jupyter.widget-view+json": {
       "model_id": "d2ff7047841542449099c24e6c211d19",
       "version_major": 2,
       "version_minor": 0
      },
      "text/plain": [
       "A Jupyter Widget"
      ]
     },
     "metadata": {},
     "output_type": "display_data"
    },
    {
     "data": {
      "application/vnd.jupyter.widget-view+json": {
       "model_id": "79c16f21e358449d9d82dbc617b628ae",
       "version_major": 2,
       "version_minor": 0
      },
      "text/plain": [
       "A Jupyter Widget"
      ]
     },
     "metadata": {},
     "output_type": "display_data"
    }
   ],
   "source": [
    "die_options = {'bins': 6, 'xlim': (1, 7), 'ylim': (0, 0.3)}\n",
    "\n",
    "nbi.hist(empirical_die_rolls, options=die_options,\n",
    "         n_rolls=fixed(10), sample_num=(0, 20))"
   ]
  },
  {
   "cell_type": "markdown",
   "metadata": {},
   "source": [
    "When the sample size increases, the empirical histogram begins to look more like the histogram of theoretical probabilities. Try it out!"
   ]
  },
  {
   "cell_type": "code",
   "execution_count": 10,
   "metadata": {},
   "outputs": [
    {
     "data": {
      "application/vnd.jupyter.widget-view+json": {
       "model_id": "e597a521c3d24e588e217c69c5ac3c87",
       "version_major": 2,
       "version_minor": 0
      },
      "text/plain": [
       "A Jupyter Widget"
      ]
     },
     "metadata": {},
     "output_type": "display_data"
    },
    {
     "data": {
      "application/vnd.jupyter.widget-view+json": {
       "model_id": "dc8ea23f657d4b8c9c3c93278ade7297",
       "version_major": 2,
       "version_minor": 0
      },
      "text/plain": [
       "A Jupyter Widget"
      ]
     },
     "metadata": {},
     "output_type": "display_data"
    }
   ],
   "source": [
    "nbi.hist(empirical_die_rolls, options=die_options,\n",
    "         n_rolls=(10, 1000, 10),\n",
    "         sample_num=(0, 20))"
   ]
  },
  {
   "cell_type": "markdown",
   "metadata": {},
   "source": [
    "As we increase the number of rolls in the simulation, the area of each bar gets closer to 16.67%, which is the area of each bar in the probability histogram.\n",
    "\n",
    "What we have observed in an instance of a general rule:\n",
    "\n",
    "### The Law of Averages ###\n",
    "\n",
    "If a chance experiment is repeated independently and under identical conditions, then, in the long run, the proportion of times that an event occurs gets closer and closer to the theoretical probability of the event.\n",
    "\n",
    "For example, in the long run, the proportion of times the face with four spots appears gets closer and closer to 1/6.\n",
    "\n",
    "Here \"independently and under identical conditions\" means that every repetition is performed in the same way regardless of the results of all the other repetitions."
   ]
  }
 ],
 "metadata": {
  "anaconda-cloud": {},
  "kernelspec": {
   "display_name": "Python [default]",
   "language": "python",
   "name": "python3"
  },
  "language_info": {
   "codemirror_mode": {
    "name": "ipython",
    "version": 3
   },
   "file_extension": ".py",
   "mimetype": "text/x-python",
   "name": "python",
   "nbconvert_exporter": "python",
   "pygments_lexer": "ipython3",
   "version": "3.5.2"
  },
  "widgets": {
   "application/vnd.jupyter.widget-state+json": {
    "state": {
     "10eedcee5f7f493baf1f49f7f2048f01": {
      "model_module": "@jupyter-widgets/base",
      "model_module_version": "1.0.0",
      "model_name": "LayoutModel",
      "state": {}
     },
     "156730644b724f0b9c36dae568a683a8": {
      "model_module": "@jupyter-widgets/base",
      "model_module_version": "1.0.0",
      "model_name": "LayoutModel",
      "state": {}
     },
     "2585f780f04d430ea1f321e4dd478356": {
      "model_module": "@jupyter-widgets/base",
      "model_module_version": "1.0.0",
      "model_name": "LayoutModel",
      "state": {}
     },
     "26803ca88c684ed1b1295a12c42bc713": {
      "model_module": "@jupyter-widgets/controls",
      "model_module_version": "1.0.0",
      "model_name": "VBoxModel",
      "state": {
       "_dom_classes": [
        "widget-interact"
       ],
       "children": [
        "IPY_MODEL_e109e47d374d4504bea7ecac9624e958",
        "IPY_MODEL_8ae0a5891d4a48d7893c363175ae2d18"
       ],
       "layout": "IPY_MODEL_559444eeab184692b2b4453073e21644"
      }
     },
     "282cca7852b04ff1839a05c41466786e": {
      "model_module": "@jupyter-widgets/base",
      "model_module_version": "1.0.0",
      "model_name": "LayoutModel",
      "state": {}
     },
     "30e1562ba482438ab93c5395f06ba907": {
      "model_module": "@jupyter-widgets/controls",
      "model_module_version": "1.0.0",
      "model_name": "SliderStyleModel",
      "state": {
       "description_width": ""
      }
     },
     "353060ee65eb4b23af1515c3639a121d": {
      "model_module": "@jupyter-widgets/base",
      "model_module_version": "1.0.0",
      "model_name": "LayoutModel",
      "state": {}
     },
     "35defbcf76a84159a8bf24db38928452": {
      "model_module": "@jupyter-widgets/base",
      "model_module_version": "1.0.0",
      "model_name": "LayoutModel",
      "state": {}
     },
     "4bfe6ac50f594b1bae4ca632f13fbb3d": {
      "model_module": "@jupyter-widgets/base",
      "model_module_version": "1.0.0",
      "model_name": "LayoutModel",
      "state": {}
     },
     "4e4a03c5bceb40bf88baded9d808d7b8": {
      "model_module": "@jupyter-widgets/controls",
      "model_module_version": "1.0.0",
      "model_name": "IntSliderModel",
      "state": {
       "description": "sample_num",
       "layout": "IPY_MODEL_353060ee65eb4b23af1515c3639a121d",
       "max": 20,
       "style": "IPY_MODEL_b356771ad6d14e1da13a1a9f677f07a0"
      }
     },
     "559444eeab184692b2b4453073e21644": {
      "model_module": "@jupyter-widgets/base",
      "model_module_version": "1.0.0",
      "model_name": "LayoutModel",
      "state": {}
     },
     "5dca1e41337a489ea05300667a02281b": {
      "model_module": "@jupyter-widgets/controls",
      "model_module_version": "1.0.0",
      "model_name": "VBoxModel",
      "state": {
       "_dom_classes": [
        "widget-interact"
       ],
       "children": [
        "IPY_MODEL_6ce8934d50e0488981c0569cc3f4ab2a",
        "IPY_MODEL_c75831c3957340089d19e026919e4f6d"
       ],
       "layout": "IPY_MODEL_156730644b724f0b9c36dae568a683a8"
      }
     },
     "60c0621de6644478a6079b069fdf0ce2": {
      "model_module": "@jupyter-widgets/base",
      "model_module_version": "1.0.0",
      "model_name": "LayoutModel",
      "state": {}
     },
     "69742e5020394abb958957ebc5ac2ce6": {
      "model_module": "@jupyter-widgets/base",
      "model_module_version": "1.0.0",
      "model_name": "LayoutModel",
      "state": {}
     },
     "6a6c852ea186451c92b90e98122f2d39": {
      "model_module": "@jupyter-widgets/base",
      "model_module_version": "1.0.0",
      "model_name": "LayoutModel",
      "state": {}
     },
     "6ce8934d50e0488981c0569cc3f4ab2a": {
      "model_module": "@jupyter-widgets/controls",
      "model_module_version": "1.0.0",
      "model_name": "IntSliderModel",
      "state": {
       "description": "num",
       "layout": "IPY_MODEL_282cca7852b04ff1839a05c41466786e",
       "style": "IPY_MODEL_87470db27b634d709df0e5d8f399f6d9",
       "value": 50
      }
     },
     "737af6bfb30845ab90029589afeb63b2": {
      "model_module": "@jupyter-widgets/controls",
      "model_module_version": "1.0.0",
      "model_name": "ToggleButtonsModel",
      "state": {
       "_options_labels": [
        "10",
        "100",
        "1000"
       ],
       "button_style": "",
       "description": "n",
       "icons": [],
       "index": 0,
       "layout": "IPY_MODEL_2585f780f04d430ea1f321e4dd478356",
       "style": "IPY_MODEL_d4093963f8684073b7a45e97ce5b2e29",
       "tooltips": []
      }
     },
     "7ca20e9e353c44198145858980a9c9c9": {
      "model_module": "@jupyter-widgets/base",
      "model_module_version": "1.0.0",
      "model_name": "LayoutModel",
      "state": {}
     },
     "82f92e99718146a7be4bb1bd91c2804d": {
      "model_module": "@jupyter-widgets/controls",
      "model_module_version": "1.0.0",
      "model_name": "VBoxModel",
      "state": {
       "_dom_classes": [
        "widget-interact"
       ],
       "children": [
        "IPY_MODEL_e82ab7856dba4df7a3515d32e6f0bf61",
        "IPY_MODEL_8e6e97e9ea314e1c9d151411ffca076e"
       ],
       "layout": "IPY_MODEL_883ec17683494cc1ae6e9db04531c45b"
      }
     },
     "87470db27b634d709df0e5d8f399f6d9": {
      "model_module": "@jupyter-widgets/controls",
      "model_module_version": "1.0.0",
      "model_name": "SliderStyleModel",
      "state": {
       "description_width": ""
      }
     },
     "87ba1bf9af914dd082ea07a4c2949f42": {
      "model_module": "@jupyter-widgets/controls",
      "model_module_version": "1.0.0",
      "model_name": "SliderStyleModel",
      "state": {
       "description_width": ""
      }
     },
     "883ec17683494cc1ae6e9db04531c45b": {
      "model_module": "@jupyter-widgets/base",
      "model_module_version": "1.0.0",
      "model_name": "LayoutModel",
      "state": {}
     },
     "8ae0a5891d4a48d7893c363175ae2d18": {
      "model_module": "@jupyter-widgets/output",
      "model_module_version": "1.0.0",
      "model_name": "OutputModel",
      "state": {
       "layout": "IPY_MODEL_acbe24e2bd6e41d9a5caa8ea1f29dd65",
       "outputs": [
        {
         "data": {
          "text/plain": "2500"
         },
         "metadata": {},
         "output_type": "display_data"
        }
       ]
      }
     },
     "8b84355462fc494bacb091d6c967657e": {
      "model_module": "@jupyter-widgets/base",
      "model_module_version": "1.0.0",
      "model_name": "LayoutModel",
      "state": {}
     },
     "8e6e97e9ea314e1c9d151411ffca076e": {
      "model_module": "@jupyter-widgets/output",
      "model_module_version": "1.0.0",
      "model_name": "OutputModel",
      "state": {
       "layout": "IPY_MODEL_f404df7e6bbe4f95934adcd964b52c6b",
       "outputs": [
        {
         "data": {
          "text/plain": "2704"
         },
         "metadata": {},
         "output_type": "display_data"
        }
       ]
      }
     },
     "9319ea6bf2a74a4bb4a94abc7be2e67a": {
      "model_module": "@jupyter-widgets/controls",
      "model_module_version": "1.0.0",
      "model_name": "SliderStyleModel",
      "state": {
       "description_width": ""
      }
     },
     "98fff9b10dd64af48f838e78c824a931": {
      "model_module": "@jupyter-widgets/base",
      "model_module_version": "1.0.0",
      "model_name": "LayoutModel",
      "state": {}
     },
     "996080d7b6434e7d865c357505f97743": {
      "model_module": "@jupyter-widgets/controls",
      "model_module_version": "1.0.0",
      "model_name": "VBoxModel",
      "state": {
       "_dom_classes": [
        "widget-interact"
       ],
       "children": [
        "IPY_MODEL_a9948cab86af477793faea96fc5a7f4d",
        "IPY_MODEL_ddc9e9e339a047ee8d7004573924fea2"
       ],
       "layout": "IPY_MODEL_6a6c852ea186451c92b90e98122f2d39"
      }
     },
     "a9948cab86af477793faea96fc5a7f4d": {
      "model_module": "@jupyter-widgets/controls",
      "model_module_version": "1.0.0",
      "model_name": "IntSliderModel",
      "state": {
       "description": "sample_num",
       "layout": "IPY_MODEL_98fff9b10dd64af48f838e78c824a931",
       "max": 20,
       "style": "IPY_MODEL_9319ea6bf2a74a4bb4a94abc7be2e67a"
      }
     },
     "acbe24e2bd6e41d9a5caa8ea1f29dd65": {
      "model_module": "@jupyter-widgets/base",
      "model_module_version": "1.0.0",
      "model_name": "LayoutModel",
      "state": {}
     },
     "af8d31bc7c644a218bfa280ed33f764e": {
      "model_module": "@jupyter-widgets/output",
      "model_module_version": "1.0.0",
      "model_name": "OutputModel",
      "state": {
       "layout": "IPY_MODEL_7ca20e9e353c44198145858980a9c9c9",
       "outputs": [
        {
         "data": {
          "image/png": "iVBORw0KGgoAAAANSUhEUgAAAbEAAAEcCAYAAABJUoqBAAAABHNCSVQICAgIfAhkiAAAAAlwSFlz\nAAALEgAACxIB0t1+/AAAIABJREFUeJzt3XlwFHXi/vFnAA8I4EDIoRCIJAMYxCMB5IuAGiUCEQOK\ni6iwooAEVrmMIaglspQxErNiEbNyKUtQwBhWARc8CHIG43orrlEkiGKIYMAEshTM/P7g55SzOehA\nDz0d3q8qq5jPp+l+ugI8dk8fjvLyco8AALChRlYHAADgdFFiAADbosQAALZFiQEAbIsSAwDYFiUG\nALAtSgwAYFuUGADAtiix/1FcXGx1BL9q6PsnsY8NBfvYMPh7HykxAIBtUWIAANuixAAAtkWJAQBs\nK2BKLCsrS06nUykpKd4xj8ej9PR0denSReHh4UpMTNTOnTstTAkACCQBUWJFRUV6+eWX1bVrV5/x\nuXPnKjs7WxkZGdqwYYNCQkI0dOhQ/fbbbxYlBQAEEstL7NChQxo7dqzmzZsnp9PpHfd4PMrJydHk\nyZOVlJSkmJgY5eTkqKKiQnl5eRYmBgAECstL7PeS6tevn894SUmJSktLFR8f7x1r2rSpevfurR07\ndpztmACAANTEyo0vWbJEu3bt0vz586vNlZaWSpJCQkJ8xkNCQrRv375a12nGjXUN/QbEhr5/UsPf\nxylPvWx1BL/724x7G/zPUWr4f1alM9tHl8tV57xlJVZcXKxZs2Zp3bp1Ou+880xb76l2+FSKi4vP\neB2BrKHvn3Ru7KMkBQUFWR3B7xr6z/Fc+LPq73207HTiBx98oAMHDqhXr14KDg5WcHCwtm7dqoUL\nFyo4OFitW7eWJJWVlfn8vrKyMoWGhloRGQAQYCw7EktMTNTVV1/tMzZx4kRFRUVp6tSpio6OVlhY\nmAoKChQbGytJqqqq0vbt2zVr1iwrIgMAAoxlJeZ0On2uRpSkZs2aqVWrVoqJiZEkJScnKysrSy6X\nS9HR0crMzFRQUJCGDRtmRWQAQICx9MKOU5k0aZKOHj2qlJQUlZeXKy4uTvn5+WrRooXV0QAAASCg\nSmzt2rU+nx0Oh9LS0pSWlmZRIgBAILP8PjEAAE4XJQYAsC1KDABgW5QYAMC2KDEAgG1RYgAA26LE\nAAC2RYkBAGyLEgMA2BYlBgCwLUoMAGBblBgAwLYoMQCAbVFiAADbosQAALZFiQEAbIsSAwDYFiUG\nALAtSgwAYFuUGADAtigxAIBtUWIAANuixAAAtkWJAQBsixIDANgWJQYAsC1KDABgW5QYAMC2KDEA\ngG1RYgAA26LEAAC2RYkBAGzLcIllZGToq6++qnV+586dysjIMCUUAABGGC6xp59+Wl9++WWt85QY\nAOBsM+10YkVFhc477zyzVgcAwCk1qWvyiy++0Oeff+79vH37dh0/frzacuXl5Vq8eLFcLpf5CQEA\nqEWdJbZmzRrvKUKHw6GXXnpJL730Uo3LOp1OzZ8/3/yEAADUos4Su/feezVgwAB5PB7Fx8drxowZ\n6t+/f7XlgoKCdOmll6pJkzpXBwCAqepsnfDwcIWHh0uSVq9erc6dOyskJOSsBAMA4FQMHzr16dPH\nnzkAAKi3Wkts4sSJcjgcmjt3rho3bqyJEyeecmUOh0Pz5s0zNSAAALWptcQ2bdqkRo0aye12q3Hj\nxtq0aZMcDkedKzvVPAAAZqq1xP54aX1NnwEAsBrPTgQA2NZplVhFRYX27t2rH374odp/Ri1YsEC9\ne/dWRESEIiIi1L9/f61fv9477/F4lJ6eri5duig8PFyJiYnauXPn6cQFADRQhq9OrKqqUkZGhpYu\nXaqDBw/Wulxdc390ySWX6Mknn1RUVJTcbrdeffVV3X333dq4caMuv/xyzZ07V9nZ2crOzpbL5dIz\nzzyjoUOHqqioSC1atDAaGwDQgBkusWnTpunVV19VYmKi/u///k9Op/OMNpyYmOjz+fHHH9eiRYtU\nVFSkrl27KicnR5MnT1ZSUpIkKScnRy6XS3l5eRo9evQZbRsA0DAYLrHVq1dr1KhReu6550wPceLE\nCf3zn/9UZWWlevbsqZKSEpWWlio+Pt67TNOmTdW7d2/t2LGDEgMASKpHiTkcDl155ZWmbvzLL79U\nQkKCqqqqFBQUpNzcXHXt2lU7duyQpGpPBwkJCdG+fftMzQAAsC/DJTZo0CBt3LjR1KMgl8ulzZs3\n6/Dhw3rjjTeUnJysNWvWnNE6i4uLzziXGesIZA19/6RzYx8rKyutjuB358LPkX2s26nejlKv78Tu\nu+8+PfTQQxo1apTatWunxo0bV1uuPs9WPP/889WxY0dJ0lVXXaWPPvpIL7zwgh5++GFJUllZmSIi\nIrzLl5WVKTQ0tM51nunrYIqLixv0K2Ua+v5J58Y+SicfvN3QNfSf47nwZ9Xf+2i4xHr06CHp5E3P\nubm5tS5n9OrEmrjdbh07dkwdOnRQWFiYCgoKFBsbK+nk1ZHbt2/XrFmzTnv9AICGxXCJPfLII6Y+\nVmrmzJlKSEhQ27ZtVVFRoby8PG3ZskUrV66Uw+FQcnKysrKy5HK5FB0drczMTAUFBWnYsGGmZQAA\n2JvhEktLSzN1w6WlpRo3bpz279+vli1bqmvXrsrLy9ONN94oSZo0aZKOHj2qlJQUlZeXKy4uTvn5\n+dwjBgDwsuwtljk5OXXOOxwOpaWlmV6eAICGw3CJZWRknHIZh8OhRx555IwCAQBglOESe/rpp2ud\nczgc8ng8lBgA4KwyXGK//vprtTG32609e/Zo4cKF2rZtm/Ly8kwNBwBAXc7oVSyNGjVSZGSkZs+e\nraioKI7CAABnlWnvE+vdu7fefvtts1YHAMApmVZiH3/8sRo14h2bAICzx/B3Yq+++mqN44cOHdK2\nbdu8T7kHAOBsMVxiEyZMqHUuODhYU6ZM4TsxAMBZZbjEPv3002pjDodDTqeTp2gAACxhuMTat2/v\nzxwAANQbV2IAAGyLEgMA2BYlBgCwLUoMAGBblBgAwLYMldiRI0fUunVrZWZm+jsPAACGGSqxZs2a\nqU2bNmrZsqW/8wAAYJjh04lDhgzRqlWr5Ha7/ZkHAADDDN/sfMstt2jz5s0aMGCARo0apcjISDVt\n2rTacnFxcaYGBACgNoZLLCkpyfvroqIiORwOn/nf3+x88OBB89IBAFAHwyWWnZ3tzxwAANSb4RK7\n6667/JkDAIB6O637xL777jsVFhbq0KFDZucBAMCwepXYa6+9pssvv1w9evTQoEGD9Mknn0iSDhw4\noLi4OK1atcovIQEAqInhEnvjjTc0btw4derUSbNmzZLH4/HOBQcHq1OnTlq+fLlfQgIAUBPDJfbs\ns8/q+uuvV35+fo3fj3Xv3l1ffPGFqeEAAKiL4RL75ptvdMstt9Q6HxISol9++cWUUAAAGGG4xJo1\na6bKyspa57///nsFBwebEgoAACMMl1i/fv30yiuv6NixY9Xm9u3bpyVLlig+Pt7UcAAA1MXwfWKP\nP/64brzxRl1//fUaMmSIHA6H3nnnHRUUFGjJkiVq3LixUlNT/ZkVAAAfho/EoqKitH79eoWFhenp\np5+Wx+NRdna25s6dq27dumndunWKiIjwZ1YAAHwYPhKTpM6dO2vVqlUqLy/Xrl275Ha7FRkZqTZt\n2vgrHwAAtapXif3O6XQqNjbW7CwAANRLvUqsvLxc2dnZWr9+vfbs2SNJat++vW6++WZNnDhRTqfT\nLyEBAKiJ4e/Edu3apT59+igzM1PHjx9X37591bdvXx0/flyZmZm69tpr9d133/kzKwAAPgwfiaWk\npOjw4cN644031K9fP5+5999/XyNHjlRqaqry8vJMDwkAQE0MH4lt375d48ePr1ZgknTdddfpgQce\n0LZt20wNBwBAXQyX2EUXXVTnd15Op1MXXXSRKaEAADDCcImNHDlSubm5+u2336rNHTp0SLm5uRo1\napSp4QAAqIvh78RcLpccDoe6d++uESNGqGPHjpJOviBz+fLlCgkJkcvlqvZOsaFDh5qbGACA/89w\niY0bN87767lz51ab379/v8aNG+fznjGHw0GJAQD8xnCJrV692p85AACoN8Ml1qdPH3/mAACg3gxf\n2AEAQKChxAAAtmVZiWVlZemGG25QRESEoqKiNHz4cH311Vc+y3g8HqWnp6tLly4KDw9XYmKidu7c\naVFiAECgsazEtmzZovvvv1/r16/Xm2++qSZNmmjIkCH69ddfvcvMnTtX2dnZysjI0IYNGxQSEqKh\nQ4fWeK8aAODcc1qvYjFDfn6+z+cXX3xR7du3V2FhoQYOHCiPx6OcnBxNnjxZSUlJkqScnBy5XC7l\n5eVp9OjRVsQGAAQQw0diGRkZ1U73/dHOnTuVkZFx2kEqKirkdru9j7YqKSlRaWmp4uPjvcs0bdpU\nvXv31o4dO057OwCAhsPwkdjTTz+tjh07KiYmpsb530ssNTX1tIJMnz5d3bp1U8+ePSVJpaWlkqSQ\nkBCf5UJCQrRv375a11NcXHxa2zd7HYFqylMvWx0BJqmsrLQ6gt815L+Lv2Mf6+ZyueqcN+10YkVF\nhc4777zT+r0zZsxQYWGh1q1bp8aNG59RjlPt8KkUFxef8ToCXVBQkNUR/KqyspJ9bCAa+t/Fc+Hf\nG3/vY50l9sUXX+jzzz/3ft6+fbuOHz9ebbny8nItXrz4tIKmpaUpPz9fq1evVmRkpHc8LCxMklRW\nVqaIiAjveFlZmUJDQ+u9HQBAw1Nnia1Zs8b7PZfD4dBLL72kl156qcZlnU6n5s+fX6+Np6amatWq\nVVq9erU6derkM9ehQweFhYWpoKBAsbGxkqSqqipt375ds2bNqtd2AAANU50ldu+992rAgAHyeDyK\nj4/XjBkz1L9//2rLBQUF6dJLL1WTJsbPTj788MNasWKFcnNz5XQ6vd+BBQUFqXnz5nI4HEpOTlZW\nVpZcLpeio6OVmZmpoKAgDRs2rJ67CQBoiOpsnfDwcIWHh0s6+QDgzp07V7vQ4nQtXLhQkryXz/8u\nNTVVaWlpkqRJkybp6NGjSklJUXl5ueLi4pSfn68WLVqYkgEAYG+WPQC4vLz8lMs4HA6lpaV5Sw0A\ngD+q19WJ7733npYuXardu3ervLzc591h0snS+eSTT0wNCABAbQyX2PPPP6+ZM2cqNDRUsbGxtd4v\nBgDA2WK4xP7+97+rX79+eu211077fjAAAMxk+LFT5eXlSkpKosAAAAHDcInFxcWdE49HAQDYh+ES\ny8zM1Jo1a7Ry5Up/5gEAwDDD34mNGjVKx44d0/jx4zVlyhRdfPHF1Z5z6HA4VFhYaHpIAABqYrjE\n2rRpo5CQEEVHR/szDwAAhhkusbVr1/ozBwAA9Wb4OzEAAAJNvUrs4MGDmj17tm6++WbFxsbqgw8+\n8I5nZGToP//5j19CAgBQE8OnE0tKSjRw4EAdPHhQMTEx2r17t44ePSpJat26tfLz8/XLL79ozpw5\nfgsLAMAfGS6xJ554Qh6PR4WFhWrRokW1CzwGDRrE92YAgLPK8OnEjRs3auzYsYqMjJTD4ag236FD\nB/3000+mhgMAoC6GS+y///2vnE5nrfOHDh1So0ZcJwIAOHsMt85ll12mrVu31jq/du1aXXHFFaaE\nAgDACMMllpycrFWrVikzM1O//vqrJMntduubb77RmDFj9OGHH2rixIl+CwoAwP8yfGHHHXfcob17\n9+qpp57SU089JUm6/fbbJUmNGjXSk08+qYEDB/onJQAANajXm52nTJmiO+64Q2+++aZ27dolt9ut\nSy+9VIMHD1ZkZKSfIgIAULN6lZgktWvXThMmTPBHFgAA6sXwd2KFhYXKysqqdf5vf/ub9wkeAACc\nDYaPxDIyMuq8xP6LL77Qli1b9Prrr5sSDACAUzF8JPbZZ5+pZ8+etc736NFDn376qSmhAAAwwnCJ\nHTlypMYndfxRRUXFGQcCAMAowyUWHR2tDRs21Dr/7rvvqmPHjqaEAgDACMMlNmrUKL3zzjt65JFH\nvDc7Sydfw5KSkqINGzZo5MiRfgkJAEBNDF/YMXbsWH3++edasGCBFi5cqNDQUEnS/v375fF4dNdd\ndyk5OdlvQQEA+F/1uk/s+eef997svHv3bklSZGSkkpKS1KdPH3/kAwCgVoZK7NixYyoqKlJ4eLj6\n9u2rvn37+jsXAACnZOg7sSZNmmjIkCF1XtgBAMDZZqjEGjVqpPbt23MJPQAgoBi+OnH8+PF6+eWX\nVVZW5s88AAAYZvjCjiNHjqhZs2aKjY1VYmKiIiMj1bRpU59lHA6HHnroIdNDAgBQE8MlNnPmTO+v\nV6xYUeMylBgA4GwyXGI8FxEAEGgMl1j79u39mQMAgHqr90sxv/vuO23ZskVlZWW644471KFDBx07\ndkylpaUKCwvT+eef74+cAABUY7jE3G63pkyZoqVLl8rj8cjhcKhHjx7eErv22muVkpKiBx980J95\nAQDwMnyJ/bPPPqvc3Fw9+uijeuedd+TxeLxzzZs31+DBg7VmzRq/hAQAoCaGS2zZsmW65557NG3a\ntBpfuRITE6PvvvvO1HAAANTFcIn99NNPiouLq3W+adOmPNEDAHBWGS6x0NBQ7dmzp9b5Tz75RBER\nEaaEAgDACMMlduutt2rx4sU+pwwdDock6Z133tHy5cs1ZMgQ8xMCAFALwyU2ffp0tWvXTv369dPY\nsWPlcDiUlZWlm266ScOHD9fll1+uqVOn+jMrAAA+DJdYy5Yt9fbbb2vq1Knav3+/LrzwQhUWFqqy\nslLTp0/XW2+9Ve1ZiqeydetW3XnnnbrsssvkdDq1bNkyn3mPx6P09HR16dJF4eHhSkxM1M6dO+u1\nDQBAw1Wvm50vvPBCTZs2TdOmTTNl45WVlYqJidGIESM0fvz4avNz585Vdna2srOz5XK59Mwzz2jo\n0KEqKipSixYtTMkAALCvU5ZYVVWV3nrrLZWUlKh169a6+eabFR4ebsrGExISlJCQIEmaMGGCz5zH\n41FOTo4mT56spKQkSVJOTo5cLpfy8vI0evRoUzIAAOyrzhLbt2+fBg0apJKSEu/Nzc2aNdPy5cvV\nt29fvwYrKSlRaWmp4uPjvWNNmzZV7969tWPHDkoMAFD3d2KzZ8/Wnj17NGHCBK1YsULp6em68MIL\nlZqa6vdgpaWlkqSQkBCf8ZCQEO3fv9/v2wcABL46j8Q2btyoESNGaPbs2d6x0NBQjRkzRj/++KPa\ntm3r94D1VVxcfEa/f8pTL5sTJIBVVlZaHcHv2MeG4Uz/Pge6c+Hfm7/NuPeMfo4ul6vO+TpLrLS0\nVNdcc43PWK9eveTxeLR3716/llhYWJgkqayszOcm6rKyMoWGhtb6+061w0YEBQWd8ToCVWVlZYPe\nP4l9bEjM+Psc6Pg5npk6TyeeOHFCF154oc/Y75+rqqr8FkqSOnTooLCwMBUUFHjHqqqqtH379mrF\nCgA4N53y6sTdu3fr3//+t/fz4cOHJZ08zG/evHm15et6vuL/qqio0K5duySdfNXL3r179dlnn6lV\nq1aKiIhQcnKysrKy5HK5FB0drczMTAUFBWnYsGGGtwEAaLhOWWLp6elKT0+vNv7II4/4fP79HWMH\nDx40vPGPP/5YgwcPrratESNGKCcnR5MmTdLRo0eVkpKi8vJyxcXFKT8/n3vEAACSTlFi2dnZft14\n3759VV5eXuu8w+FQWlqa0tLS/JoDAGBPdZbYXXfddbZyAABQb4afnQgAQKChxAAAtkWJAQBsixID\nANgWJQYAsC1KDABgW5QYAMC2KDEAgG1RYgAA26LEAAC2RYkBAGyLEgMA2BYlBgCwLUoMAGBblBgA\nwLYoMQCAbVFiAADbosQAALZFiQEAbIsSAwDYFiUGALAtSgwAYFuUGADAtigxAIBtUWIAANuixAAA\ntkWJAQBsixIDANgWJQYAsC1KDABgW5QYAMC2KDEAgG1RYgAA26LEAAC2RYkBAGyLEgMA2BYlBgCw\nLUoMAGBblBgAwLYoMQCAbVFiAADbosQAALZFiQEAbIsSAwDYli1KbOHChbriiisUFham6667Ttu2\nbbM6EgAgAAR8ieXn52v69OmaNm2aNm3apJ49e+qOO+7QDz/8YHU0AIDFAr7EsrOzddddd+nPf/6z\nOnfurDlz5igsLEyLFy+2OhoAwGKO8vJyj9UhanPs2DFdfPHFWrRokYYMGeIdf/jhh/XVV1/prbfe\nsjAdAMBqAX0kduDAAZ04cUIhISE+4yEhIdq/f79FqQAAgSKgSwwAgLoEdIkFBwercePGKisr8xkv\nKytTaGioRakAAIEioEvs/PPP11VXXaWCggKf8YKCAl1zzTUWpQIABIomVgc4lYkTJ+qBBx5QXFyc\nrrnmGi1evFg///yzRo8ebXU0AIDFAvpITJJuu+02paena86cOerbt68KCwu1cuVKtW/f3rRtbN26\nVXfeeacuu+wyOZ1OLVu2zLR1B4KsrCzdcMMNioiIUFRUlIYPH66vvvrK6limWrBggXr37q2IiAhF\nRESof//+Wr9+vdWx/CorK0tOp1MpKSlWRzFNenq6nE6nz3+dOnWyOpbpfv75Z40fP15RUVEKCwvT\nNddcoy1btlgdyzTdunWr9nN0Op3605/+ZPq2Av5ITJLGjBmjMWPG+G39lZWViomJ0YgRIzR+/Hi/\nbccqW7Zs0f3336/Y2Fh5PB499dRTGjJkiHbs2KFWrVpZHc8Ul1xyiZ588klFRUXJ7Xbr1Vdf1d13\n362NGzfq8ssvtzqe6YqKivTyyy+ra9euVkcxncvl0po1a7yfGzdubGEa85WXl+vmm29Wr169tHLl\nSgUHB6ukpKTaVdh2VlBQoBMnTng///zzz7r++ut9bpUyiy1KzN8SEhKUkJAgSZowYYLFacyXn5/v\n8/nFF19U+/btVVhYqIEDB1qUylyJiYk+nx9//HEtWrRIRUVFDa7EDh06pLFjx2revHnKyMiwOo7p\nmjRporCwMKtj+M3zzz+v8PBwvfjii96xyMhI6wL5QZs2bXw+L126VC1atNDQoUNN31bAn06E+Soq\nKuR2u+V0Oq2O4hcnTpzQ66+/rsrKSvXs2dPqOKabPHmykpKS1K9fP6uj+MXu3bvVpUsXXXHFFbrv\nvvu0e/duqyOZau3atYqLi9Po0aMVHR2tPn36aP78+fJ4Ava5E2fE4/Fo6dKlGj58uJo2bWr6+jkS\nOwdNnz5d3bp1a3D/wH/55ZdKSEhQVVWVgoKClJub2+BOty1ZskS7du3S/PnzrY7iF927d9cLL7wg\nl8ulX375RXPmzFFCQoIKCwvVunVrq+OZYvfu3Vq0aJEmTJigyZMn6/PPP1dqaqokady4cRanM19B\nQYFKSko0atQov6yfEjvHzJgxQ4WFhVq3bl2D+67B5XJp8+bNOnz4sN544w0lJydrzZo1iomJsTqa\nKYqLizVr1iytW7dO5513ntVx/KJ///4+n3v06KErr7xSr7zyiv7yl79YlMpcbrdbV199tZ544glJ\n0pVXXqldu3Zp4cKFDbLElixZotjYWHXr1s0v66fEziFpaWnKz8/X6tWrG9w5eOnkfYUdO3aUJF11\n1VX66KOP9MILL2jevHkWJzPHBx98oAMHDqhXr17esRMnTmjbtm1avHixfvrpJ11wwQUWJjRfUFCQ\nunTpol27dlkdxTRhYWHq3Lmzz1inTp20d+9eixL5T1lZmd566y1lZmb6bRuU2DkiNTVVq1at0urV\nqxvkJcs1cbvdOnbsmNUxTJOYmKirr77aZ2zixImKiorS1KlTdf7551uUzH+qqqpUXFysvn37Wh3F\nNL169dK3337rM/btt98qIiLCokT+88orr+iCCy7Q7bff7rdtUGI6eaHD7/+n53a7tXfvXn322Wdq\n1apVg/iD9fDDD2vFihXKzc2V0+lUaWmppJP/l9u8eXOL05lj5syZSkhIUNu2bVVRUaG8vDxt2bJF\nK1eutDqaaX6/1+aPmjVrplatWjWYU6aPPfaYBgwYoHbt2nm/Ezty5IhGjBhhdTTTTJgwQQkJCcrM\nzNRtt92mzz77TPPnz9fjjz9udTRTeTwe/eMf/9Btt93m139nAvpVLGfL5s2bNXjw4GrjI0aMUE5O\njgWJzFXbVYipqalKS0s7y2n8Izk5WZs3b9b+/fvVsmVLde3aVQ899JBuvPFGq6P5VWJiomJiYjRn\nzhyro5jivvvu07Zt23TgwAG1adNG3bt316OPPqouXbpYHc1U69ev16xZs/Ttt9+qXbt2Gjt2rB54\n4AE5HA6ro5lm06ZNuvXWW/Xee+8pLi7Ob9uhxAAAtsV9YgAA26LEAAC2RYkBAGyLEgMA2BYlBgCw\nLUoMAGBblBhwli1btqzGFwY6nU5t3LjR6niArfDEDsAiS5Ys0SWXXOIz9r/P1ANQN0oMsEi3bt28\nDywGcHo4nQgEmKNHjyo1NVW9evXSJZdcos6dO+vOO+9UcXFxtWW///57jR07Vi6XS6Ghobryyis1\nY8YMn2U2bdqkwYMHq23btmrbtq2GDRumr7/++mztDuBXHIkBFjlx4oSOHz/u/exwONS4cWNVVVXp\nyJEjmjZtmi6++GIdPHhQCxcuVP/+/VVUVKSQkBBJJwssPj5eLVq00GOPPabIyEjt3btX77//vned\na9eu1ciRIzVo0CAtWLBAbrdbzz33nAYOHKitW7dWO50J2A3PTgTOsmXLlmnixInVxnv16qV169ZV\nGz9x4oSqqqoUHR2tmTNn6oEHHpAkjRkzRuvXr9eHH36osLCwar/P4/HoiiuukMvlUn5+vne8vLxc\nV111le655x7Nnj3bxD0Dzj6OxACL5Obmqm3btt7Pf3xdxeuvv67s7Gx9++23Onz4sHf8j++h2rBh\ngwYOHFhjgUnSN998ox9++EEzZszwOeJr3ry5unfvrm3btpm5O4AlKDHAIjExMTVe2LF69Wrdf//9\nuvvuuzV9+nQFBwerUaNGuu2221RVVeVd7tdff63zdGBZWZmkk6+pSU5OrjbfEN/ujXMPJQYEmPz8\nfHXq1EknwDmdAAABZ0lEQVTZ2dnesaqqKh06dMhnudatW+unn36qdT2tW7eWJM2aNavGNyM3xDdB\n49xDiQEB5siRI2rSxPev5vLly+V2u33G4uPj9a9//UtlZWXeiz3+qEuXLmrXrp2+/vprPfTQQ37N\nDFiFEgMCzE033aSUlBQ99thj6t+/vz766CMtWLBALVu29Fnu0Ucf1bvvvqv+/ftr6tSpuvTSS/Xj\njz+qoKBAL774oho1aqRnnnlGI0eO1H//+18lJSWpdevW2r9/v3bs2KHIyMgaTzMCdkKJAQHmvvvu\n0759+/TKK69o0aJFiouL04oVKzR8+HCf5SIjI/Xee+/pr3/9q5544gkdOXJEF198sW655RbvMoMG\nDdLatWuVlZWlBx98UFVVVQoLC1OPHj00bNiws71rgOm4xB4AYFs8sQMAYFuUGADAtigxAIBtUWIA\nANuixAAAtkWJAQBsixIDANgWJQYAsC1KDABgW/8PpgSPKFoG5/0AAAAASUVORK5CYII=\n",
          "text/plain": "<matplotlib.figure.Figure at 0x113853f98>"
         },
         "metadata": {},
         "output_type": "display_data"
        }
       ]
      }
     },
     "b356771ad6d14e1da13a1a9f677f07a0": {
      "model_module": "@jupyter-widgets/controls",
      "model_module_version": "1.0.0",
      "model_name": "SliderStyleModel",
      "state": {
       "description_width": ""
      }
     },
     "b617b76a613541a294a39751f7b96578": {
      "model_module": "@jupyter-widgets/controls",
      "model_module_version": "1.0.0",
      "model_name": "VBoxModel",
      "state": {
       "_dom_classes": [
        "widget-interact"
       ],
       "children": [
        "IPY_MODEL_f25608ec29c74af8ac0d1265d07724c9",
        "IPY_MODEL_ef4e940384da44c8915184f5acd05e8e"
       ],
       "layout": "IPY_MODEL_bf0694f639fc49b08a901de761b5e7a6"
      }
     },
     "bf0694f639fc49b08a901de761b5e7a6": {
      "model_module": "@jupyter-widgets/base",
      "model_module_version": "1.0.0",
      "model_name": "LayoutModel",
      "state": {}
     },
     "c75831c3957340089d19e026919e4f6d": {
      "model_module": "@jupyter-widgets/output",
      "model_module_version": "1.0.0",
      "model_name": "OutputModel",
      "state": {
       "layout": "IPY_MODEL_e01d38d9c0a84c1081f576f7722f31e7",
       "outputs": [
        {
         "data": {
          "text/plain": "2500"
         },
         "metadata": {},
         "output_type": "display_data"
        }
       ]
      }
     },
     "d113db6d60b0489c95fa8f12c50dea70": {
      "model_module": "@jupyter-widgets/controls",
      "model_module_version": "1.0.0",
      "model_name": "VBoxModel",
      "state": {
       "_dom_classes": [
        "widget-interact"
       ],
       "children": [
        "IPY_MODEL_737af6bfb30845ab90029589afeb63b2",
        "IPY_MODEL_4e4a03c5bceb40bf88baded9d808d7b8",
        "IPY_MODEL_af8d31bc7c644a218bfa280ed33f764e"
       ],
       "layout": "IPY_MODEL_8b84355462fc494bacb091d6c967657e"
      }
     },
     "d4093963f8684073b7a45e97ce5b2e29": {
      "model_module": "@jupyter-widgets/controls",
      "model_module_version": "1.0.0",
      "model_name": "ToggleButtonsStyleModel",
      "state": {
       "_model_module": "@jupyter-widgets/controls",
       "button_width": ""
      }
     },
     "ddc9e9e339a047ee8d7004573924fea2": {
      "model_module": "@jupyter-widgets/output",
      "model_module_version": "1.0.0",
      "model_name": "OutputModel",
      "state": {
       "layout": "IPY_MODEL_69742e5020394abb958957ebc5ac2ce6",
       "outputs": [
        {
         "data": {
          "text/html": "<table border=\"1\" class=\"dataframe\">\n    <thead>\n        <tr>\n            <th>Face</th>\n        </tr>\n    </thead>\n    <tbody>\n        <tr>\n            <td>5   </td>\n        </tr>\n    </tbody>\n        <tr>\n            <td>3   </td>\n        </tr>\n    </tbody>\n        <tr>\n            <td>6   </td>\n        </tr>\n    </tbody>\n        <tr>\n            <td>1   </td>\n        </tr>\n    </tbody>\n        <tr>\n            <td>4   </td>\n        </tr>\n    </tbody>\n        <tr>\n            <td>3   </td>\n        </tr>\n    </tbody>\n        <tr>\n            <td>6   </td>\n        </tr>\n    </tbody>\n        <tr>\n            <td>2   </td>\n        </tr>\n    </tbody>\n        <tr>\n            <td>3   </td>\n        </tr>\n    </tbody>\n        <tr>\n            <td>5   </td>\n        </tr>\n    </tbody>\n</table>",
          "text/plain": "Face\n5\n3\n6\n1\n4\n3\n6\n2\n3\n5"
         },
         "metadata": {},
         "output_type": "display_data"
        }
       ]
      }
     },
     "e01d38d9c0a84c1081f576f7722f31e7": {
      "model_module": "@jupyter-widgets/base",
      "model_module_version": "1.0.0",
      "model_name": "LayoutModel",
      "state": {}
     },
     "e109e47d374d4504bea7ecac9624e958": {
      "model_module": "@jupyter-widgets/controls",
      "model_module_version": "1.0.0",
      "model_name": "IntSliderModel",
      "state": {
       "description": "num",
       "layout": "IPY_MODEL_60c0621de6644478a6079b069fdf0ce2",
       "style": "IPY_MODEL_87ba1bf9af914dd082ea07a4c2949f42",
       "value": 50
      }
     },
     "e82ab7856dba4df7a3515d32e6f0bf61": {
      "model_module": "@jupyter-widgets/controls",
      "model_module_version": "1.0.0",
      "model_name": "IntSliderModel",
      "state": {
       "description": "num",
       "layout": "IPY_MODEL_10eedcee5f7f493baf1f49f7f2048f01",
       "style": "IPY_MODEL_30e1562ba482438ab93c5395f06ba907",
       "value": 52
      }
     },
     "edf13a7ec29442eaa8c4be6dff12afdf": {
      "model_module": "@jupyter-widgets/controls",
      "model_module_version": "1.0.0",
      "model_name": "SliderStyleModel",
      "state": {
       "description_width": ""
      }
     },
     "ef4e940384da44c8915184f5acd05e8e": {
      "model_module": "@jupyter-widgets/output",
      "model_module_version": "1.0.0",
      "model_name": "OutputModel",
      "state": {
       "layout": "IPY_MODEL_4bfe6ac50f594b1bae4ca632f13fbb3d",
       "outputs": [
        {
         "data": {
          "image/png": "iVBORw0KGgoAAAANSUhEUgAAAbEAAAEcCAYAAABJUoqBAAAABHNCSVQICAgIfAhkiAAAAAlwSFlz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\nRK5CYII=\n",
          "text/plain": "<matplotlib.figure.Figure at 0x1102dc978>"
         },
         "metadata": {},
         "output_type": "display_data"
        }
       ]
      }
     },
     "f25608ec29c74af8ac0d1265d07724c9": {
      "model_module": "@jupyter-widgets/controls",
      "model_module_version": "1.0.0",
      "model_name": "IntSliderModel",
      "state": {
       "description": "sample_num",
       "layout": "IPY_MODEL_35defbcf76a84159a8bf24db38928452",
       "max": 20,
       "style": "IPY_MODEL_edf13a7ec29442eaa8c4be6dff12afdf"
      }
     },
     "f404df7e6bbe4f95934adcd964b52c6b": {
      "model_module": "@jupyter-widgets/base",
      "model_module_version": "1.0.0",
      "model_name": "LayoutModel",
      "state": {}
     }
    },
    "version_major": 2,
    "version_minor": 0
   }
  }
 },
 "nbformat": 4,
 "nbformat_minor": 1
}
