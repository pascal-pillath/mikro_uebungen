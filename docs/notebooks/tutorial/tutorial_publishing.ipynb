{
 "cells": [
  {
   "cell_type": "markdown",
   "metadata": {},
   "source": [
    "# Publishing A Webpage\n",
    "\n",
    "To convert a notebook into an HTML file, start a terminal and run the following command.\n",
    "\n",
    "```bash\n",
    "nbinteract tutorial.ipynb\n",
    "```\n",
    "\n",
    "This generates a `tutorial.html` file with the contents of the notebook created in the previous section. Now, push your files to GitHub by running:\n",
    "\n",
    "```bash\n",
    "git add -A\n",
    "git commit -m \"Publish nb\"\n",
    "git push origin master\n",
    "```\n",
    "\n",
    "After pushing, you now have a URL you can view and share:\n",
    "\n",
    "```\n",
    "{username}.github.io/nbinteract-tutorial/tutorial.html\n",
    "```\n",
    "\n",
    "Where `{username}` is replaced with your GitHub username. For example, if my\n",
    "username is `SamLau95`, my URL is:\n",
    "\n",
    "```\n",
    "SamLau95.github.io/nbinteract-tutorial/tutorial.html\n",
    "```"
   ]
  },
  {
   "cell_type": "markdown",
   "metadata": {},
   "source": [
    "## Publishing to a different URL\n",
    "\n",
    "To change the URL of the page you publish, you can rename your notebook before you convert it. For example, if you rename `tutorial.ipynb` to `hello.ipynb` and convert the notebook, the resulting URL becomes:\n",
    "\n",
    "```\n",
    "{username}.github.io/nbinteract-tutorial/hello.html\n",
    "```\n",
    "\n",
    "To change the path segment before the filename (in this case, `nbinteract-tutorial`) you can create a new GitHub repo with the subpath name you want. Then, you may create and convert notebooks in this repo. For example, if you create a new repo called `blog-posts` and convert a notebook called `tutorial.ipynb`, the resulting URL becomes:\n",
    "\n",
    "```\n",
    "{username}.github.io/blog-posts/tutorial.html\n",
    "```"
   ]
  },
  {
   "cell_type": "markdown",
   "metadata": {},
   "source": [
    "## Workflow\n",
    "\n",
    "You have learned a simple workflow to create interactive webpages:\n",
    "\n",
    "1. Write a Jupyter notebook containing Python functions\n",
    "2. Use `interact` to create UI elements to interact with the functions.\n",
    "3. Run `nbinteract {notebook}` in a terminal to generate an interactive webpage using your notebook code.\n",
    "4. Publish your webpage to GitHub pages to make it publicly accessible.\n",
    "\n",
    "In the next section, you will create an interactive simulation of the Monty Hall Problem. Onward!"
   ]
  }
 ],
 "metadata": {
  "kernelspec": {
   "display_name": "Python [default]",
   "language": "python",
   "name": "python3"
  },
  "language_info": {
   "codemirror_mode": {
    "name": "ipython",
    "version": 3
   },
   "file_extension": ".py",
   "mimetype": "text/x-python",
   "name": "python",
   "nbconvert_exporter": "python",
   "pygments_lexer": "ipython3",
   "version": "3.6.3"
  }
 },
 "nbformat": 4,
 "nbformat_minor": 2
}
