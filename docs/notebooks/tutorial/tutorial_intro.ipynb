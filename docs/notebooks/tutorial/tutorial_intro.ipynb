{
 "cells": [
  {
   "cell_type": "markdown",
   "metadata": {},
   "source": [
    "# Getting Started\n",
    "\n",
    "In the following set of pages, we will show you how to use `nbinteract` and its\n",
    "related tools. At the end of this tutorial, you will have a publicly viewable\n",
    "interactive webpage to share with the world!\n",
    "\n",
    "## Following Along\n",
    "\n",
    "In this tutorial, we assume familiarity with running terminal commands and using Jupyter notebooks.\n",
    "\n",
    "The simplest way to follow this tutorial is to use the [Binder][binder] service to start a notebook server. On the next page, we'll guide you through the steps to configure Binder so that the necessary packages are available for use in notebooks.\n",
    "\n",
    "### Installing Locally\n",
    "\n",
    "If you prefer to work on your local machine, you need to install the `nbinteract` package. To install the package, run the following commands in your terminal:\n",
    "\n",
    "```bash\n",
    "pip install nbinteract\n",
    "\n",
    "# The next two commands can be skipped for notebook version 5.3 and above\n",
    "jupyter nbextension enable --py --sys-prefix bqplot\n",
    "jupyter nbextension enable --py --sys-prefix widgetsnbextension\n",
    "```\n",
    "\n",
    "[binder]: http://mybinder.org/"
   ]
  }
 ],
 "metadata": {
  "kernelspec": {
   "display_name": "Python [default]",
   "language": "python",
   "name": "python3"
  },
  "language_info": {
   "codemirror_mode": {
    "name": "ipython",
    "version": 3
   },
   "file_extension": ".py",
   "mimetype": "text/x-python",
   "name": "python",
   "nbconvert_exporter": "python",
   "pygments_lexer": "ipython3",
   "version": "3.6.3"
  }
 },
 "nbformat": 4,
 "nbformat_minor": 2
}
