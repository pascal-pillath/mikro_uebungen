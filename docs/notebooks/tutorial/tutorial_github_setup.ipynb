{
 "cells": [
  {
   "cell_type": "markdown",
   "metadata": {},
   "source": [
    "# Set Up\n",
    "\n",
    "To enable interactivity on webpages, `nbinteract` relies on the free [Binder][binder] service. To configure Binder to run your webpages, we will create a GitHub repository which will also allow you to host your converted webpages publicly.\n",
    "\n",
    "[binder]: http://mybinder.org/"
   ]
  },
  {
   "cell_type": "markdown",
   "metadata": {},
   "source": [
    "## Creating an Account and Repo\n",
    "\n",
    "To begin, visit https://github.com/ and create an account. If you already have an account, you should log in.\n",
    "\n",
    "Then, create a new repo. You may do this using the GitHub UI or visiting https://github.com/new . Name the repo `nbinteract-tutorial`. If you'd like a different name, feel free to name it something else; just keep in mind that we will use this repo name in later parts of the tutorial.\n",
    "\n",
    "Make sure your repo is public, and click the checkbox to initialize your repo with a README. Your page should look like:\n",
    "\n",
    "<img src=\"https://user-images.githubusercontent.com/2468904/34801736-1837d22a-f61f-11e7-92e3-8eddf7d5da0f.png\"\n",
    "  alt=\"gh-repo-setup\"\n",
    "  width=\"80%\"\n",
    "  style=\"margin: 0 10%;\"\n",
    ">\n",
    "\n",
    "Now, click on the Settings link for the repo near the top of the page, scroll down to the GitHub Pages section, and select the `master` branch as the GitHub pages source. Click the Save button to save your changes.\n",
    "\n",
    "<img src=\"https://user-images.githubusercontent.com/2468904/34801810-650af35c-f61f-11e7-8650-cb90c8ec60b1.png\"\n",
    "  alt=\"gh-pages-setup\"\n",
    "  width=\"80%\"\n",
    "  style=\"margin: 0 10%;\"\n",
    ">\n",
    "\n",
    "Now, any file you upload to this repo will have a public URL. For example, the `README.md` file in the repo has the following URL:\n",
    "\n",
    "```\n",
    "{username}.github.io/nbinteract-tutorial/README.md\n",
    "```\n",
    "\n",
    "Where `{username}` is replaced with your GitHub username. For example, if my username is `SamLau95`, my URL is:\n",
    "\n",
    "```\n",
    "SamLau95.github.io/nbinteract-tutorial/README.md\n",
    "```\n",
    "\n",
    "If you can visit that URL and the page contains text (and not a 404 error) you've set up your GitHub repo correctly."
   ]
  },
  {
   "cell_type": "markdown",
   "metadata": {},
   "source": [
    "## Cloning Your Repo\n",
    "\n",
    "Now, visit http://mybinder.org/ and paste in the URL to your repo. It should look like:\n",
    "\n",
    "```\n",
    "https://github.com/{username}/nbinteract-tutorial\n",
    "```\n",
    "\n",
    "Where `{username}` is replaced with your GitHub username.\n",
    "\n",
    "Launch the Binder server to open Jupyter.\n",
    "\n",
    "If you are working locally, you should instead run the following commands in your terminal:\n",
    "\n",
    "```bash\n",
    "# Clone the repo\n",
    "git clone https://github.com/{username}/nbinteract-tutorial\n",
    "\n",
    "# Move into the repo directory\n",
    "cd nbinteract-tutorial\n",
    "\n",
    "# Start Jupyter\n",
    "jupyter notebook\n",
    "```"
   ]
  },
  {
   "cell_type": "markdown",
   "metadata": {},
   "source": [
    "## Initializing nbinteract\n",
    "\n",
    "Via the notebook interface, click on New -> Terminal. This should open a terminal prompt. Run the following commands:\n",
    "\n",
    "```bash\n",
    "# Installs nbinteract\n",
    "pip install nbinteract\n",
    "\n",
    "# Initializes nbinteract. When prompted, create a requirements.txt file. Since we aren't\n",
    "# adding additional packages in this tutorial, re-run the command to finish initialization.\n",
    "nbinteract init\n",
    "\n",
    "git add -A\n",
    "git commit -m \"Setup nbinteract\"\n",
    "git push origin master\n",
    "```\n",
    "\n",
    "This initializes the `nbinteract` package and pushes the configuration files to GitHub.\n",
    "\n",
    "\n",
    "If you are working locally, skip the `pip install command` above and run the remaining commands in your terminal."
   ]
  },
  {
   "cell_type": "code",
   "execution_count": null,
   "metadata": {},
   "outputs": [],
   "source": []
  }
 ],
 "metadata": {
  "kernelspec": {
   "display_name": "Python [default]",
   "language": "python",
   "name": "python3"
  },
  "language_info": {
   "codemirror_mode": {
    "name": "ipython",
    "version": 3
   },
   "file_extension": ".py",
   "mimetype": "text/x-python",
   "name": "python",
   "nbconvert_exporter": "python",
   "pygments_lexer": "ipython3",
   "version": "3.6.3"
  }
 },
 "nbformat": 4,
 "nbformat_minor": 2
}
