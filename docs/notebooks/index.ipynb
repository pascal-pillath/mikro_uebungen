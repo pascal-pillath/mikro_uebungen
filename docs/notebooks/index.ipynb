{
 "cells": [
  {
   "cell_type": "code",
   "execution_count": 2,
   "metadata": {},
   "outputs": [],
   "source": [
    "# HIDDEN\n",
    "import numpy as np\n",
    "np.set_printoptions(threshold=999)\n",
    "np.random.seed(64)"
   ]
  },
  {
   "cell_type": "markdown",
   "metadata": {},
   "source": [
    "# nbinteract"
   ]
  },
  {
   "cell_type": "markdown",
   "metadata": {},
   "source": [
    "`nbinteract` is a Python package that provides a command-line tool to generate interactive web pages from Jupyter notebooks. It allows [Jupyter widgets][widgets] to remain interactive even when the notebook is converted to static HTML by using [Binder servers][binder] as the computational backend.\n",
    "\n",
    "`nbinteract` also provides Python functions for simple, interactive plots. These interactions are driven by data, not callbacks, allowing authors to focus on the logic of their programs.\n",
    "\n",
    "`nbinteract` is useful for:\n",
    "\n",
    "- Data scientists that want to create simple interactive blog posts without having\n",
    "  to know / work with Javascript.\n",
    "- Instructors that want to include interactive examples in their textbooks.\n",
    "- Students that want to publish data analysis that contains interactive demos.\n",
    "\n",
    "[widgets]: https://github.com/jupyter-widgets/ipywidgets/\n",
    "[binder]: http://mybinder.org/"
   ]
  },
  {
   "cell_type": "markdown",
   "metadata": {},
   "source": [
    "## Converting Notebooks"
   ]
  },
  {
   "cell_type": "markdown",
   "metadata": {},
   "source": [
    "From the command line:\n",
    "\n",
    "```bash\n",
    "# Run on the command line to convert the notebook into a publishable HTML page.\n",
    "#\n",
    "# nbinteract {NOTEBOOK.ipynb} -s {BINDER_SPEC}\n",
    "#\n",
    "# Replace {BINDER_SPEC} with a Binder spec in the format\n",
    "# {username}/{repo}/{branch} (e.g. SamLau95/nbinteract-image/master).\n",
    "# The branch is optional; if omitted, defaults to `master`\n",
    "#\n",
    "# Replace {NOTEBOOK.ipynb} with the name of the notebook file to convert.\n",
    "#\n",
    "# For example:\n",
    "nbinteract homepage.ipynb -s SamLau95/nbinteract-image\n",
    "```"
   ]
  },
  {
   "cell_type": "markdown",
   "metadata": {},
   "source": [
    "After initializing a GitHub repo and running `nbinteract init`, you may omit the Binder spec and simply write:\n",
    "\n",
    "```bash\n",
    "nbinteract homepage.ipynb\n",
    "```"
   ]
  },
  {
   "cell_type": "markdown",
   "metadata": {},
   "source": [
    "For more information on Binder specs and conversion, see the [tutorial][] which has a complete walkthrough on publishing a notebook to the web.\n",
    "\n",
    "[tutorial]: /tutorial/tutorial_intro.html"
   ]
  },
  {
   "cell_type": "markdown",
   "metadata": {},
   "source": [
    "## Plotting"
   ]
  },
  {
   "cell_type": "markdown",
   "metadata": {},
   "source": [
    "Most plotting functions from other libraries (e.g. `matplotlib`) take data as input. `nbinteract`'s plotting methods instead take in functions that return data.\n",
    "\n",
    "In the example below, the `normal` function generates data that we then plot using `nbi.hist()`."
   ]
  },
  {
   "cell_type": "code",
   "execution_count": 3,
   "metadata": {},
   "outputs": [
    {
     "data": {
      "text/plain": [
       "array([11.10032294,  8.01737258,  8.84975049, ...,  9.86721442,\n",
       "       11.06511688, 10.88371858])"
      ]
     },
     "execution_count": 3,
     "metadata": {},
     "output_type": "execute_result"
    }
   ],
   "source": [
    "import numpy as np\n",
    "import nbinteract as nbi\n",
    "\n",
    "def normal(mean, sd):\n",
    "    '''Returns 1000 points drawn at random fron N(mean, sd)'''\n",
    "    return np.random.normal(mean, sd, 1000)\n",
    "\n",
    "normal(10, 1.0)"
   ]
  },
  {
   "cell_type": "code",
   "execution_count": 4,
   "metadata": {
    "scrolled": false
   },
   "outputs": [
    {
     "data": {
      "application/vnd.jupyter.widget-view+json": {
       "model_id": "e8d250c2b2a8470380cdb2f17700689a",
       "version_major": 2,
       "version_minor": 0
      },
      "text/html": [
       "<p>Failed to display Jupyter Widget of type <code>VBox</code>.</p>\n",
       "<p>\n",
       "  If you're reading this message in the Jupyter Notebook or JupyterLab Notebook, it may mean\n",
       "  that the widgets JavaScript is still loading. If this message persists, it\n",
       "  likely means that the widgets JavaScript library is either not installed or\n",
       "  not enabled. See the <a href=\"https://ipywidgets.readthedocs.io/en/stable/user_install.html\">Jupyter\n",
       "  Widgets Documentation</a> for setup instructions.\n",
       "</p>\n",
       "<p>\n",
       "  If you're reading this message in another frontend (for example, a static\n",
       "  rendering on GitHub or <a href=\"https://nbviewer.jupyter.org/\">NBViewer</a>),\n",
       "  it may mean that your frontend doesn't currently support widgets.\n",
       "</p>\n"
      ],
      "text/plain": [
       "VBox(children=(interactive(children=(IntSlider(value=5, description='mean', max=10), FloatSlider(value=1.0, description='sd', max=2.0), Output()), _dom_classes=('widget-interact',)), Figure(axes=[Axis(scale=LinearScale(max=12.0, min=-2.0)), Axis(orientation='vertical', scale=LinearScale(max=0.7, min=0.0))], fig_margin={'top': 60, 'bottom': 60, 'left': 60, 'right': 60}, layout=Layout(min_width='125px'), marks=[Hist(bins=20, colors=['#475A77'], interactions={'hover': 'tooltip'}, normalized=True, sample=array([0., 0., 0., 0., 0., 0., 0., 0., 0., 0.]), scales={'sample': LinearScale(max=12.0, min=-2.0), 'count': LinearScale(max=0.7, min=0.0)}, scales_metadata={'sample': {'orientation': 'horizontal', 'dimension': 'x'}, 'count': {'orientation': 'vertical', 'dimension': 'y'}}, stroke='#475A77', tooltip_style={'opacity': 0.9})], scale_x=LinearScale(allow_padding=False, max=1.0, min=0.0), scale_y=LinearScale(allow_padding=False, max=1.0, min=0.0))))"
      ]
     },
     "metadata": {},
     "output_type": "display_data"
    }
   ],
   "source": [
    "# Plot aesthetics\n",
    "options = {\n",
    "    'xlim': (-2, 12),\n",
    "    'ylim': (0, 0.7),\n",
    "    'bins': 20\n",
    "}\n",
    "\n",
    "# Pass in the `normal` function and let user change mean and sd.\n",
    "# Whenever the user interacts with the sliders, the `normal` function\n",
    "# is called and the returned data are plotted.\n",
    "nbi.hist(normal, mean=(0, 10), sd=(0, 2.0), options=options)\n",
    "\n",
    "# Clicking the Show widget button below loads all widgets on the page.\n",
    "# Widgets will automatically load for all subsequent pages until you close\n",
    "# the tab/window."
   ]
  },
  {
   "cell_type": "markdown",
   "metadata": {},
   "source": [
    "Simulations are easy to create using `nbinteract`. In this simulation, we roll a die and plot the running average of the rolls. We can see that with more rolls, the average gets closer to the expected value: 3.5."
   ]
  },
  {
   "cell_type": "code",
   "execution_count": 5,
   "metadata": {},
   "outputs": [],
   "source": [
    "rolls = np.random.choice([1, 2, 3, 4, 5, 6], size=300)\n",
    "averages = np.cumsum(rolls) / np.arange(1, 301)\n",
    "\n",
    "def x_vals(num_rolls):\n",
    "    return range(num_rolls)\n",
    "\n",
    "# The function to generate y-values gets called with the\n",
    "# x-values as its first argument.\n",
    "def y_vals(xs):\n",
    "    return averages[:len(xs)]"
   ]
  },
  {
   "cell_type": "code",
   "execution_count": 6,
   "metadata": {},
   "outputs": [
    {
     "data": {
      "application/vnd.jupyter.widget-view+json": {
       "model_id": "32c4cd2a6f244fa9847bc0749f2981c9",
       "version_major": 2,
       "version_minor": 0
      },
      "text/html": [
       "<p>Failed to display Jupyter Widget of type <code>VBox</code>.</p>\n",
       "<p>\n",
       "  If you're reading this message in the Jupyter Notebook or JupyterLab Notebook, it may mean\n",
       "  that the widgets JavaScript is still loading. If this message persists, it\n",
       "  likely means that the widgets JavaScript library is either not installed or\n",
       "  not enabled. See the <a href=\"https://ipywidgets.readthedocs.io/en/stable/user_install.html\">Jupyter\n",
       "  Widgets Documentation</a> for setup instructions.\n",
       "</p>\n",
       "<p>\n",
       "  If you're reading this message in another frontend (for example, a static\n",
       "  rendering on GitHub or <a href=\"https://nbviewer.jupyter.org/\">NBViewer</a>),\n",
       "  it may mean that your frontend doesn't currently support widgets.\n",
       "</p>\n"
      ],
      "text/plain": [
       "VBox(children=(interactive(children=(IntSlider(value=150, description='num_rolls', max=300, min=1), Output()), _dom_classes=('widget-interact',)), Figure(axes=[Axis(scale=LinearScale()), Axis(orientation='vertical', scale=LinearScale())], fig_margin={'top': 60, 'bottom': 60, 'left': 60, 'right': 60}, layout=Layout(min_width='125px'), marks=[Lines(colors=['#475A77'], interactions={'hover': 'tooltip'}, scales={'x': LinearScale(), 'y': LinearScale()}, scales_metadata={'x': {'orientation': 'horizontal', 'dimension': 'x'}, 'y': {'orientation': 'vertical', 'dimension': 'y'}, 'color': {'dimension': 'color'}}, tooltip_style={'opacity': 0.9})], scale_x=LinearScale(allow_padding=False, max=1.0, min=0.0), scale_y=LinearScale(allow_padding=False, max=1.0, min=0.0))))"
      ]
     },
     "metadata": {},
     "output_type": "display_data"
    }
   ],
   "source": [
    "nbi.line(x_vals, y_vals, num_rolls=(1, 300))"
   ]
  },
  {
   "cell_type": "markdown",
   "metadata": {},
   "source": [
    "## Installation\n",
    "\n",
    "Using `pip`:\n",
    "\n",
    "```bash\n",
    "pip install nbinteract\n",
    "\n",
    "# The next two lines can be skipped for notebook version 5.3 and above\n",
    "jupyter nbextension enable --py --sys-prefix widgetsnbextension\n",
    "jupyter nbextension enable --py --sys-prefix bqplot\n",
    "```\n",
    "\n",
    "You may now import the `nbinteract` package in Python code and use the `nbinteract` CLI command to convert notebooks to HTML pages."
   ]
  },
  {
   "cell_type": "markdown",
   "metadata": {},
   "source": [
    "## Documentation\n",
    "\n",
    "Access the tutorials, examples, and documentation for `nbinteract` using the links in the sidebar."
   ]
  },
  {
   "cell_type": "markdown",
   "metadata": {},
   "source": [
    "## Feedback\n",
    "\n",
    "If you have any questions or comments, send us a message on the [Gitter channel]. We appreciate your feedback! \n",
    "\n",
    "[Gitter channel]: https://gitter.im/nbinteract/Lobby/"
   ]
  }
 ],
 "metadata": {
  "kernelspec": {
   "display_name": "Python [default]",
   "language": "python",
   "name": "python3"
  },
  "language_info": {
   "codemirror_mode": {
    "name": "ipython",
    "version": 3
   },
   "file_extension": ".py",
   "mimetype": "text/x-python",
   "name": "python",
   "nbconvert_exporter": "python",
   "pygments_lexer": "ipython3",
   "version": "3.6.3"
  }
 },
 "nbformat": 4,
 "nbformat_minor": 2
}
