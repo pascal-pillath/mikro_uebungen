{
 "cells": [
  {
   "cell_type": "markdown",
   "metadata": {},
   "source": [
    "# Motivation"
   ]
  },
  {
   "cell_type": "markdown",
   "metadata": {},
   "source": [
    "`nbinteract` aims to enable authors and educators to easily create and share interactive web pages.\n",
    "\n",
    "Interactive explanations of concepts are useful for communicating and explaining tricky concepts. Consider these explanations for [linear regression][linreg] and [conditional probability][cond], for example.\n",
    "\n",
    "However, making an interactive webpage often requires significant knowledge of web technologies and especially Javascript. While [Jupyter widgets][widgets] allow authors to generate interactive interfaces directly in a Jupyter notebook, sharing these demos typically requires readers to run the notebook. This causes issues when the reader's computer lacks (correct versions of) the packages needed to completely run the notebook.\n",
    "\n",
    "`nbinteract` provides a single binary that converts Jupyter notebooks into HTML pages. The resulting HTML pages can be shared with the public, keeping any interactivity created using Jupyter widgets. For example, the interactive parts of this website are entirely generated from notebooks using `nbinteract`.\n",
    "\n",
    "In addition, `nbinteract` provides a Python package. Once imported, `nbinteract` provides helper methods that allow users to create simple interactive visualizations with single function calls.\n",
    "\n",
    "[widgets]: http://jupyter.org/widgets.html\n",
    "[linreg]: http://setosa.io/ev/ordinary-least-squares-regression/\n",
    "[cond]: https://students.brown.edu/seeing-theory/compound-probability/index.html#third"
   ]
  }
 ],
 "metadata": {
  "kernelspec": {
   "display_name": "Python [default]",
   "language": "python",
   "name": "python3"
  },
  "language_info": {
   "codemirror_mode": {
    "name": "ipython",
    "version": 3
   },
   "file_extension": ".py",
   "mimetype": "text/x-python",
   "name": "python",
   "nbconvert_exporter": "python",
   "pygments_lexer": "ipython3",
   "version": "3.6.3"
  }
 },
 "nbformat": 4,
 "nbformat_minor": 2
}
