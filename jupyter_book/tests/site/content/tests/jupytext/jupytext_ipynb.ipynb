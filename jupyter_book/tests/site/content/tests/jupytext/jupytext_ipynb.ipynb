{
 "cells": [
  {
   "cell_type": "markdown",
   "metadata": {},
   "source": [
    "# Jupytext with Jupyter Book\n",
    "\n",
    "It's also possible to build Jupyter Books using [Jupytext](https://jupytext.readthedocs.io), a tool for\n",
    "two-way conversion between Jupyter Notebooks an text-based versions of a Jupyter Notebook (e.g., `.md` or `.py`).\n",
    "\n",
    "Using Jupytext allows you to store your Jupyter Notebooks as **text files**, which makes them much better for\n",
    "collaboration and \"diffing\" using a tool like Git. The drawbacks are that you no longer keep the outputs with\n",
    "your files, which means building your book with outputs requires running each file at build-time.\n",
    "\n",
    "## This notebook is stored in Jupytext format!\n",
    "\n",
    "For example, the notebook for this page is stored in a Jupytext format. In this case, we've used\n",
    "a markdown file. [You can find the original (text-based) format here](https://github.com/jupyter/jupyter-book/blob/master/jupyter_book/book_template/content/features/jupytext.md).\n",
    "\n",
    "Below we'll show some Python code, which Jupyter Book can execute at build time."
   ]
  },
  {
   "cell_type": "code",
   "execution_count": null,
   "metadata": {},
   "outputs": [],
   "source": [
    "print(\"This message should display: %s\" % (2 + 2))"
   ]
  },
  {
   "cell_type": "markdown",
   "metadata": {},
   "source": [
    "Now let's see if tags are propagated correctly..."
   ]
  },
  {
   "cell_type": "code",
   "execution_count": null,
   "metadata": {
    "tags": [
     "hide_input"
    ]
   },
   "outputs": [],
   "source": [
    "print(\"This message should have a hide_input tag\")"
   ]
  },
  {
   "cell_type": "markdown",
   "metadata": {},
   "source": [
    "## A recommended workflow with Jupytext and notebooks\n",
    "\n",
    "Even if you're storing your content in a text-based file, it's useful to **write your content in notebooks**\n",
    "and convert them to text format before committing them in Git. This allows you to add **tags** to your notebooks\n",
    "that propagate to your Jupytext format. This allows you to use the editing capabilities of a Jupyter interface, but\n",
    "the version-control benefits of a text-based file."
   ]
  }
 ],
 "metadata": {
  "jupytext": {
   "formats": "ipynb,md"
  },
  "kernelspec": {
   "display_name": "Python 3",
   "language": "python",
   "name": "python3"
  }
 },
 "nbformat": 4,
 "nbformat_minor": 2
}
